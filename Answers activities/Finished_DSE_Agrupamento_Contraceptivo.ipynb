{
 "cells": [
  {
   "cell_type": "markdown",
   "metadata": {
    "id": "oMGgtzcnKB2m"
   },
   "source": [
    "# **Laboratório: Métodos Contraceptivos**\n",
    "*Prof. Dr. Orlando Junior*"
   ]
  },
  {
   "cell_type": "markdown",
   "metadata": {
    "id": "wPHOkt4AsyUV"
   },
   "source": [
    "A concepção é a ação de gerar um outro ser vivo. Logo, a **contracepção** é a maneira de evitar que isso ocorra, sendo os métodos contraceptivos uma importante ferramenta para evitar a gravidez, de maneira temporária ou não.\n",
    "\n",
    "Os métodos desse controle incluem medicamentos, procedimentos, dispositivos e comportamentos, auxiliando também cada pessoa a colocar em prática o seu direito reprodutivo. Entre os métodos contraceptivos, existem aqueles que são hormonais e não hormonais.\n",
    "\n",
    "Os anticoncepcionais que contêm hormônios são aqueles que agem inibindo a ovulação da mulher e/ou provocando alterações nas características do muco que é expelido pela vagina, dificultando a passagem dos espermatozoides. Já os não hormonais são aqueles que não contam com hormônios em sua composição. Além disso, os métodos podem ser classificados por seu período de ação, como:\n",
    "\n",
    "* De curta duração: são métodos que precisam ser administrados com mais frequência, seja diariamente, mensalmente ou a cada três meses (trimestral).\n",
    "\n",
    "* De longa duração: são métodos com uma duração que pode variar de 3 a 10 anos, a depender da escolha.\n",
    "\n",
    "* Permanentes: são métodos realizados por meio de procedimentos cirúrgicos, que visam a impedir a fertilização e são irreversíveis."
   ]
  },
  {
   "cell_type": "markdown",
   "metadata": {
    "id": "O83EFp2-syUX"
   },
   "source": [
    "![picture](https://media.graphassets.com/N4QGN8OGRfyzw5JC6CTd)"
   ]
  },
  {
   "cell_type": "markdown",
   "metadata": {
    "ExecuteTime": {
     "end_time": "2023-03-30T03:43:57.584195Z",
     "start_time": "2023-03-30T03:43:57.572664Z"
    },
    "id": "qeU_5IIXsyUX"
   },
   "source": [
    "Neste laboratório de **Ciência de Dados**, você irá analisar uma base de dados que é um subconjunto da Pesquisa Nacional de Prevalência de Contraceptivos da Indonésia, de 1987. As amostras são mulheres casadas que não estavam grávidas ou não sabiam se estavam grávidas no momento da entrevista. O problema é identificar o tipo de método contraceptivo utilizado por uma mulher com base em suas características demográficas e socioeconômicas.\n",
    "\n",
    "No arquivo de dados que você está recebendo, você irá observar 1473 amostras e 9 atributos, sendo eles, em ordem:\n",
    "\n",
    "1. Idade da mulher - numérico\n",
    "2. Educação da mulher - categórico - {1=baixo, 2, 3, 4=alto}\n",
    "3. Educação do marido - categórico  - {1=baixo, 2, 3, 4=alto}\n",
    "4. Número de crianças já nascidas - numérico\n",
    "5. Religião - binário - {0=Não Islã, 1=Islã}\n",
    "6. A esposa está trabalhando no momento? - binário - {0=Sim, 1=Não}\n",
    "7. Ocupação do marido - categórico - {1, 2, 3, 4}\n",
    "8. índice de padrão de vida - categórico - {1=baixo, 2, 3, 4=alto}\n",
    "9. Exposição na mídia - binário - {0=Bom, 1=Não é bom}\n",
    "10. Identificador da mulher"
   ]
  },
  {
   "cell_type": "markdown",
   "metadata": {
    "id": "e4FMQrTNsyUY"
   },
   "source": [
    "## Laboratório"
   ]
  },
  {
   "cell_type": "markdown",
   "metadata": {
    "id": "8Ztwdd3gMybH"
   },
   "source": [
    "**Anthony Lima Campelo** --- RA: *10442330 *"
   ]
  },
  {
   "cell_type": "markdown",
   "metadata": {
    "id": "OY04xsVNsyUY"
   },
   "source": [
    "### Bibliotecas"
   ]
  },
  {
   "cell_type": "code",
   "execution_count": 1,
   "metadata": {
    "colab": {
     "base_uri": "https://localhost:8080/"
    },
    "executionInfo": {
     "elapsed": 8151,
     "status": "ok",
     "timestamp": 1711374811894,
     "user": {
      "displayName": "Anthony Lima",
      "userId": "00908832099265320448"
     },
     "user_tz": 180
    },
    "id": "W5HpWCE04wh7",
    "outputId": "90f55a01-ea87-4d87-a376-884f79810748"
   },
   "outputs": [
    {
     "name": "stdout",
     "output_type": "stream",
     "text": [
      "Requirement already satisfied: apyori in c:\\users\\anthony\\anaconda3\\lib\\site-packages (1.1.2)\n"
     ]
    }
   ],
   "source": [
    "!pip install apyori"
   ]
  },
  {
   "cell_type": "code",
   "execution_count": 2,
   "metadata": {
    "ExecuteTime": {
     "end_time": "2023-04-01T13:16:50.808529Z",
     "start_time": "2023-04-01T13:16:48.951204Z"
    },
    "id": "Blp9_YOwsyUZ"
   },
   "outputs": [],
   "source": [
    "import numpy as np\n",
    "import pandas as pd\n",
    "import matplotlib.pyplot as plt\n",
    "import seaborn as sns\n",
    "from sklearn.datasets import load_iris\n",
    "from sklearn.cluster import KMeans\n",
    "from sklearn.metrics import silhouette_score\n",
    "from sklearn.preprocessing import StandardScaler\n",
    "from apyori import apriori"
   ]
  },
  {
   "cell_type": "markdown",
   "metadata": {
    "heading_collapsed": true,
    "id": "3KfgJL5fsyUc"
   },
   "source": [
    "### Leitura de Dados"
   ]
  },
  {
   "cell_type": "code",
   "execution_count": 3,
   "metadata": {
    "ExecuteTime": {
     "end_time": "2023-04-01T13:19:06.196441Z",
     "start_time": "2023-04-01T13:19:06.164420Z"
    },
    "hidden": true,
    "id": "e4IJN28usyUd"
   },
   "outputs": [],
   "source": [
    "df = pd.read_csv(\"dataSet's\\contraceptive.csv\", sep=',',\n",
    "                         names=['Idade', 'Educação Mulher', 'Educação Marido', 'N Crianças Nascidas','Religião','Trabalha?','Trab Marido','Pd Vida', 'Exposição', 'Identificador'])"
   ]
  },
  {
   "cell_type": "code",
   "execution_count": 4,
   "metadata": {
    "colab": {
     "base_uri": "https://localhost:8080/",
     "height": 424
    },
    "executionInfo": {
     "elapsed": 7,
     "status": "ok",
     "timestamp": 1711373087898,
     "user": {
      "displayName": "Anthony Lima",
      "userId": "00908832099265320448"
     },
     "user_tz": 180
    },
    "id": "R4OinbFih1QD",
    "outputId": "7b2e04b3-9fee-44e9-f19d-ee69bc69bc7a"
   },
   "outputs": [
    {
     "data": {
      "text/html": [
       "<div>\n",
       "<style scoped>\n",
       "    .dataframe tbody tr th:only-of-type {\n",
       "        vertical-align: middle;\n",
       "    }\n",
       "\n",
       "    .dataframe tbody tr th {\n",
       "        vertical-align: top;\n",
       "    }\n",
       "\n",
       "    .dataframe thead th {\n",
       "        text-align: right;\n",
       "    }\n",
       "</style>\n",
       "<table border=\"1\" class=\"dataframe\">\n",
       "  <thead>\n",
       "    <tr style=\"text-align: right;\">\n",
       "      <th></th>\n",
       "      <th>Idade</th>\n",
       "      <th>N Crianças Nascidas</th>\n",
       "    </tr>\n",
       "  </thead>\n",
       "  <tbody>\n",
       "    <tr>\n",
       "      <th>0</th>\n",
       "      <td>24</td>\n",
       "      <td>3</td>\n",
       "    </tr>\n",
       "    <tr>\n",
       "      <th>1</th>\n",
       "      <td>45</td>\n",
       "      <td>10</td>\n",
       "    </tr>\n",
       "    <tr>\n",
       "      <th>2</th>\n",
       "      <td>43</td>\n",
       "      <td>7</td>\n",
       "    </tr>\n",
       "    <tr>\n",
       "      <th>3</th>\n",
       "      <td>42</td>\n",
       "      <td>9</td>\n",
       "    </tr>\n",
       "    <tr>\n",
       "      <th>4</th>\n",
       "      <td>36</td>\n",
       "      <td>8</td>\n",
       "    </tr>\n",
       "    <tr>\n",
       "      <th>...</th>\n",
       "      <td>...</td>\n",
       "      <td>...</td>\n",
       "    </tr>\n",
       "    <tr>\n",
       "      <th>1468</th>\n",
       "      <td>33</td>\n",
       "      <td>2</td>\n",
       "    </tr>\n",
       "    <tr>\n",
       "      <th>1469</th>\n",
       "      <td>33</td>\n",
       "      <td>3</td>\n",
       "    </tr>\n",
       "    <tr>\n",
       "      <th>1470</th>\n",
       "      <td>39</td>\n",
       "      <td>8</td>\n",
       "    </tr>\n",
       "    <tr>\n",
       "      <th>1471</th>\n",
       "      <td>33</td>\n",
       "      <td>4</td>\n",
       "    </tr>\n",
       "    <tr>\n",
       "      <th>1472</th>\n",
       "      <td>17</td>\n",
       "      <td>1</td>\n",
       "    </tr>\n",
       "  </tbody>\n",
       "</table>\n",
       "<p>1473 rows × 2 columns</p>\n",
       "</div>"
      ],
      "text/plain": [
       "      Idade  N Crianças Nascidas\n",
       "0        24                    3\n",
       "1        45                   10\n",
       "2        43                    7\n",
       "3        42                    9\n",
       "4        36                    8\n",
       "...     ...                  ...\n",
       "1468     33                    2\n",
       "1469     33                    3\n",
       "1470     39                    8\n",
       "1471     33                    4\n",
       "1472     17                    1\n",
       "\n",
       "[1473 rows x 2 columns]"
      ]
     },
     "execution_count": 4,
     "metadata": {},
     "output_type": "execute_result"
    }
   ],
   "source": [
    "df_nominais = df.loc[0:,('Educação Mulher','Educação Marido','Trab Marido','Pd Vida')]\n",
    "df_nominais\n",
    "\n",
    "df_numericos = df.loc[0:,('Idade', 'N Crianças Nascidas')]\n",
    "df_numericos\n"
   ]
  },
  {
   "cell_type": "markdown",
   "metadata": {
    "id": "1hzfpPr1syUe"
   },
   "source": [
    "### Tratamento de Dados"
   ]
  },
  {
   "cell_type": "markdown",
   "metadata": {
    "id": "iOsmxOIosyUf"
   },
   "source": [
    "**Tratamento de Dados Categóricos Nominais**"
   ]
  },
  {
   "cell_type": "code",
   "execution_count": 5,
   "metadata": {
    "ExecuteTime": {
     "end_time": "2023-04-01T14:09:13.745650Z",
     "start_time": "2023-04-01T14:09:13.732606Z"
    },
    "colab": {
     "base_uri": "https://localhost:8080/"
    },
    "executionInfo": {
     "elapsed": 405,
     "status": "ok",
     "timestamp": 1711373093193,
     "user": {
      "displayName": "Anthony Lima",
      "userId": "00908832099265320448"
     },
     "user_tz": 180
    },
    "id": "LDVJQFHgsyUf",
    "outputId": "81a7c59b-a080-42ab-9f52-f17e30e307dc"
   },
   "outputs": [
    {
     "data": {
      "text/plain": [
       "[['42', '3', '2', '9', '1', '1', '3', '3', '0', '4'],\n",
       " ['36', '3', '3', '8', '1', '1', '3', '2', '0', '5'],\n",
       " ['19', '4', '4', '0', '1', '1', '3', '3', '0', '6'],\n",
       " ['38', '2', '3', '6', '1', '1', '3', '2', '0', '7'],\n",
       " ['21', '3', '3', '1', '1', '0', '3', '2', '0', '8'],\n",
       " ['27', '2', '3', '3', '1', '1', '3', '4', '0', '9'],\n",
       " ['45', '1', '1', '8', '1', '1', '2', '2', '1', '10']]"
      ]
     },
     "execution_count": 5,
     "metadata": {},
     "output_type": "execute_result"
    }
   ],
   "source": [
    "registros = []\n",
    "\n",
    "for i in range(0, df_nominais.shape[0]):\n",
    "    registros.append([str(df.values[i, j]) for j in range(0, df.shape[1])])\n",
    "\n",
    "registros[3:10]"
   ]
  },
  {
   "cell_type": "markdown",
   "metadata": {
    "id": "REE1MmBzsyUf"
   },
   "source": [
    "**Tratamento de Dados Numéricos**"
   ]
  },
  {
   "cell_type": "code",
   "execution_count": 6,
   "metadata": {
    "ExecuteTime": {
     "end_time": "2023-04-01T14:16:37.464278Z",
     "start_time": "2023-04-01T14:16:37.415429Z"
    },
    "colab": {
     "base_uri": "https://localhost:8080/"
    },
    "executionInfo": {
     "elapsed": 281,
     "status": "ok",
     "timestamp": 1711373395393,
     "user": {
      "displayName": "Anthony Lima",
      "userId": "00908832099265320448"
     },
     "user_tz": 180
    },
    "id": "2Trhy3SAsyUi",
    "outputId": "6a86c6f3-a54d-4802-af98-2721cef92792"
   },
   "outputs": [
    {
     "name": "stdout",
     "output_type": "stream",
     "text": [
      "StandardScaler()\n",
      "[32.53835709  3.26137135]\n"
     ]
    }
   ],
   "source": [
    "\n",
    "\n",
    "scaler = StandardScaler()\n",
    "print(scaler.fit(df_numericos))\n",
    "StandardScaler()\n",
    "print(scaler.mean_)\n",
    "df_numericos_ = scaler.transform(df_numericos)\n",
    "\n"
   ]
  },
  {
   "cell_type": "markdown",
   "metadata": {
    "id": "TShkeQxSsyUi"
   },
   "source": [
    "**Integração de Dados**"
   ]
  },
  {
   "cell_type": "code",
   "execution_count": 7,
   "metadata": {
    "ExecuteTime": {
     "end_time": "2023-04-01T14:22:48.902914Z",
     "start_time": "2023-04-01T14:22:48.875885Z"
    },
    "colab": {
     "base_uri": "https://localhost:8080/",
     "height": 441
    },
    "executionInfo": {
     "elapsed": 306,
     "status": "ok",
     "timestamp": 1711373405647,
     "user": {
      "displayName": "Anthony Lima",
      "userId": "00908832099265320448"
     },
     "user_tz": 180
    },
    "id": "Ylh4a2qrsyUj",
    "outputId": "4ead47eb-b5ef-4eba-bcf2-da01cdb1330c",
    "scrolled": true
   },
   "outputs": [
    {
     "data": {
      "text/html": [
       "<div>\n",
       "<style scoped>\n",
       "    .dataframe tbody tr th:only-of-type {\n",
       "        vertical-align: middle;\n",
       "    }\n",
       "\n",
       "    .dataframe tbody tr th {\n",
       "        vertical-align: top;\n",
       "    }\n",
       "\n",
       "    .dataframe thead th {\n",
       "        text-align: right;\n",
       "    }\n",
       "</style>\n",
       "<table border=\"1\" class=\"dataframe\">\n",
       "  <thead>\n",
       "    <tr style=\"text-align: right;\">\n",
       "      <th></th>\n",
       "      <th>Educação Mulher</th>\n",
       "      <th>Educação Marido</th>\n",
       "      <th>Trab Marido</th>\n",
       "      <th>Pd Vida</th>\n",
       "      <th>Idade</th>\n",
       "      <th>N Crianças Nascidas</th>\n",
       "    </tr>\n",
       "  </thead>\n",
       "  <tbody>\n",
       "    <tr>\n",
       "      <th>0</th>\n",
       "      <td>2</td>\n",
       "      <td>3</td>\n",
       "      <td>2</td>\n",
       "      <td>3</td>\n",
       "      <td>24</td>\n",
       "      <td>3</td>\n",
       "    </tr>\n",
       "    <tr>\n",
       "      <th>1</th>\n",
       "      <td>1</td>\n",
       "      <td>3</td>\n",
       "      <td>3</td>\n",
       "      <td>4</td>\n",
       "      <td>45</td>\n",
       "      <td>10</td>\n",
       "    </tr>\n",
       "    <tr>\n",
       "      <th>2</th>\n",
       "      <td>2</td>\n",
       "      <td>3</td>\n",
       "      <td>3</td>\n",
       "      <td>4</td>\n",
       "      <td>43</td>\n",
       "      <td>7</td>\n",
       "    </tr>\n",
       "    <tr>\n",
       "      <th>3</th>\n",
       "      <td>3</td>\n",
       "      <td>2</td>\n",
       "      <td>3</td>\n",
       "      <td>3</td>\n",
       "      <td>42</td>\n",
       "      <td>9</td>\n",
       "    </tr>\n",
       "    <tr>\n",
       "      <th>4</th>\n",
       "      <td>3</td>\n",
       "      <td>3</td>\n",
       "      <td>3</td>\n",
       "      <td>2</td>\n",
       "      <td>36</td>\n",
       "      <td>8</td>\n",
       "    </tr>\n",
       "    <tr>\n",
       "      <th>...</th>\n",
       "      <td>...</td>\n",
       "      <td>...</td>\n",
       "      <td>...</td>\n",
       "      <td>...</td>\n",
       "      <td>...</td>\n",
       "      <td>...</td>\n",
       "    </tr>\n",
       "    <tr>\n",
       "      <th>1468</th>\n",
       "      <td>4</td>\n",
       "      <td>4</td>\n",
       "      <td>2</td>\n",
       "      <td>4</td>\n",
       "      <td>33</td>\n",
       "      <td>2</td>\n",
       "    </tr>\n",
       "    <tr>\n",
       "      <th>1469</th>\n",
       "      <td>4</td>\n",
       "      <td>4</td>\n",
       "      <td>1</td>\n",
       "      <td>4</td>\n",
       "      <td>33</td>\n",
       "      <td>3</td>\n",
       "    </tr>\n",
       "    <tr>\n",
       "      <th>1470</th>\n",
       "      <td>3</td>\n",
       "      <td>3</td>\n",
       "      <td>1</td>\n",
       "      <td>4</td>\n",
       "      <td>39</td>\n",
       "      <td>8</td>\n",
       "    </tr>\n",
       "    <tr>\n",
       "      <th>1471</th>\n",
       "      <td>3</td>\n",
       "      <td>3</td>\n",
       "      <td>2</td>\n",
       "      <td>2</td>\n",
       "      <td>33</td>\n",
       "      <td>4</td>\n",
       "    </tr>\n",
       "    <tr>\n",
       "      <th>1472</th>\n",
       "      <td>3</td>\n",
       "      <td>3</td>\n",
       "      <td>2</td>\n",
       "      <td>4</td>\n",
       "      <td>17</td>\n",
       "      <td>1</td>\n",
       "    </tr>\n",
       "  </tbody>\n",
       "</table>\n",
       "<p>1473 rows × 6 columns</p>\n",
       "</div>"
      ],
      "text/plain": [
       "      Educação Mulher  Educação Marido  Trab Marido  Pd Vida  Idade  \\\n",
       "0                   2                3            2        3     24   \n",
       "1                   1                3            3        4     45   \n",
       "2                   2                3            3        4     43   \n",
       "3                   3                2            3        3     42   \n",
       "4                   3                3            3        2     36   \n",
       "...               ...              ...          ...      ...    ...   \n",
       "1468                4                4            2        4     33   \n",
       "1469                4                4            1        4     33   \n",
       "1470                3                3            1        4     39   \n",
       "1471                3                3            2        2     33   \n",
       "1472                3                3            2        4     17   \n",
       "\n",
       "      N Crianças Nascidas  \n",
       "0                       3  \n",
       "1                      10  \n",
       "2                       7  \n",
       "3                       9  \n",
       "4                       8  \n",
       "...                   ...  \n",
       "1468                    2  \n",
       "1469                    3  \n",
       "1470                    8  \n",
       "1471                    4  \n",
       "1472                    1  \n",
       "\n",
       "[1473 rows x 6 columns]"
      ]
     },
     "execution_count": 7,
     "metadata": {},
     "output_type": "execute_result"
    }
   ],
   "source": [
    "df_nominais = df_nominais.merge(df_numericos, how='inner', left_index=True,  right_index=True)\n",
    "\n",
    "df_nominais"
   ]
  },
  {
   "cell_type": "markdown",
   "metadata": {
    "ExecuteTime": {
     "end_time": "2023-04-01T14:23:06.235589Z",
     "start_time": "2023-04-01T14:23:06.217424Z"
    },
    "id": "zMfL5nLasyUj"
   },
   "source": [
    "### Aprendizagem e Avaliação"
   ]
  },
  {
   "cell_type": "markdown",
   "metadata": {
    "id": "76CngXTcsyUj"
   },
   "source": [
    "**Treinamento**"
   ]
  },
  {
   "cell_type": "code",
   "execution_count": 8,
   "metadata": {
    "ExecuteTime": {
     "end_time": "2023-04-01T14:27:46.145115Z",
     "start_time": "2023-04-01T14:27:46.125577Z"
    },
    "colab": {
     "base_uri": "https://localhost:8080/",
     "height": 1000
    },
    "executionInfo": {
     "elapsed": 308,
     "status": "ok",
     "timestamp": 1711373429460,
     "user": {
      "displayName": "Anthony Lima",
      "userId": "00908832099265320448"
     },
     "user_tz": 180
    },
    "id": "3BFbh_4ysyUk",
    "outputId": "e6fbac2f-a55b-4ae4-a36f-79dc45b83fe7"
   },
   "outputs": [
    {
     "name": "stdout",
     "output_type": "stream",
     "text": [
      "Initialization complete\n",
      "Iteration 0, inertia 1522.0645606643734.\n",
      "Iteration 1, inertia 1137.4563013294728.\n",
      "Iteration 2, inertia 1092.927549569678.\n",
      "Iteration 3, inertia 1058.4436989488715.\n",
      "Iteration 4, inertia 1019.1642245700439.\n",
      "Iteration 5, inertia 988.499816799759.\n",
      "Iteration 6, inertia 972.8925301041002.\n",
      "Iteration 7, inertia 963.1702698505576.\n",
      "Iteration 8, inertia 959.2587490454896.\n",
      "Iteration 9, inertia 956.2945661263948.\n",
      "Iteration 10, inertia 952.0674807042122.\n",
      "Iteration 11, inertia 950.3033616299278.\n",
      "Iteration 12, inertia 949.1063901695063.\n",
      "Converged at iteration 12: center shift 6.170212255861906e-05 within tolerance 0.00010000000000000022.\n",
      "Initialization complete\n",
      "Iteration 0, inertia 2181.0257444921062.\n",
      "Iteration 1, inertia 1363.9075922522052.\n",
      "Iteration 2, inertia 1248.4529015837752.\n",
      "Iteration 3, inertia 1175.7759656054172.\n",
      "Iteration 4, inertia 1108.031206040696.\n",
      "Iteration 5, inertia 1033.0207892458016.\n",
      "Iteration 6, inertia 990.1391191181879.\n",
      "Iteration 7, inertia 968.5852065606389.\n",
      "Iteration 8, inertia 962.1254728044057.\n",
      "Iteration 9, inertia 957.599061421337.\n",
      "Iteration 10, inertia 954.8907020077249.\n",
      "Iteration 11, inertia 952.0674807042122.\n",
      "Iteration 12, inertia 950.3033616299278.\n",
      "Iteration 13, inertia 949.1063901695063.\n",
      "Converged at iteration 13: center shift 6.170212255861904e-05 within tolerance 0.00010000000000000022.\n",
      "Initialization complete\n",
      "Iteration 0, inertia 1394.6695643719802.\n",
      "Iteration 1, inertia 1177.3290577790895.\n",
      "Iteration 2, inertia 1075.7395935396976.\n",
      "Iteration 3, inertia 1003.0078049411244.\n",
      "Iteration 4, inertia 972.6299801516377.\n",
      "Iteration 5, inertia 961.9697106365549.\n",
      "Iteration 6, inertia 957.4397340006489.\n",
      "Iteration 7, inertia 955.1052401325014.\n",
      "Iteration 8, inertia 952.0674807042122.\n",
      "Iteration 9, inertia 950.3033616299278.\n",
      "Iteration 10, inertia 949.1063901695063.\n",
      "Converged at iteration 10: center shift 6.170212255861927e-05 within tolerance 0.00010000000000000022.\n",
      "Initialization complete\n",
      "Iteration 0, inertia 2235.6746645616427.\n",
      "Iteration 1, inertia 1060.2434051651585.\n",
      "Iteration 2, inertia 975.5534006436275.\n",
      "Iteration 3, inertia 960.7905315516341.\n",
      "Iteration 4, inertia 951.1731601465349.\n",
      "Iteration 5, inertia 949.387185558108.\n",
      "Iteration 6, inertia 949.1180027616657.\n",
      "Iteration 7, inertia 949.0811481679241.\n",
      "Converged at iteration 7: strict convergence.\n",
      "Initialization complete\n",
      "Iteration 0, inertia 2073.689983060908.\n",
      "Iteration 1, inertia 1160.4012712171207.\n",
      "Iteration 2, inertia 1106.6092150751972.\n",
      "Iteration 3, inertia 1044.282732755337.\n",
      "Iteration 4, inertia 1008.075104420142.\n",
      "Iteration 5, inertia 979.8363422008298.\n",
      "Iteration 6, inertia 971.3864678465885.\n",
      "Iteration 7, inertia 962.5933226496903.\n",
      "Iteration 8, inertia 959.3590368283105.\n",
      "Iteration 9, inertia 958.6717974624585.\n",
      "Iteration 10, inertia 958.3785763325103.\n",
      "Converged at iteration 10: strict convergence.\n",
      "Initialization complete\n",
      "Iteration 0, inertia 1608.2454697398498.\n",
      "Iteration 1, inertia 1158.320368392886.\n",
      "Iteration 2, inertia 1011.7323634908684.\n",
      "Iteration 3, inertia 974.5425925460255.\n",
      "Iteration 4, inertia 966.916586646156.\n",
      "Iteration 5, inertia 960.7517041288284.\n",
      "Iteration 6, inertia 959.0418384134503.\n",
      "Iteration 7, inertia 958.3785763325103.\n",
      "Converged at iteration 7: strict convergence.\n",
      "Initialization complete\n",
      "Iteration 0, inertia 1914.6561678788107.\n",
      "Iteration 1, inertia 1219.4819174346276.\n",
      "Iteration 2, inertia 1142.323295510426.\n",
      "Iteration 3, inertia 1076.5997761870817.\n",
      "Iteration 4, inertia 1019.7833909936655.\n",
      "Iteration 5, inertia 985.7356139827771.\n",
      "Iteration 6, inertia 972.9287873078481.\n",
      "Iteration 7, inertia 971.8383344166921.\n",
      "Iteration 8, inertia 971.6993212261017.\n",
      "Iteration 9, inertia 970.441620619089.\n",
      "Iteration 10, inertia 964.0741812020829.\n",
      "Iteration 11, inertia 959.3590368283105.\n",
      "Iteration 12, inertia 958.6717974624585.\n",
      "Iteration 13, inertia 958.3785763325104.\n",
      "Converged at iteration 13: strict convergence.\n",
      "Initialization complete\n",
      "Iteration 0, inertia 2003.5672646947437.\n",
      "Iteration 1, inertia 1015.0901314343093.\n",
      "Iteration 2, inertia 969.9542152325914.\n",
      "Iteration 3, inertia 963.880928695741.\n",
      "Iteration 4, inertia 959.703126058974.\n",
      "Iteration 5, inertia 958.6717974624585.\n",
      "Iteration 6, inertia 958.3785763325104.\n",
      "Converged at iteration 6: strict convergence.\n",
      "Initialization complete\n",
      "Iteration 0, inertia 1193.5169723862623.\n",
      "Iteration 1, inertia 975.4360829267882.\n",
      "Iteration 2, inertia 963.3899625451363.\n",
      "Iteration 3, inertia 959.2587490454896.\n",
      "Iteration 4, inertia 956.2945661263948.\n",
      "Iteration 5, inertia 952.0674807042122.\n",
      "Iteration 6, inertia 950.3033616299278.\n",
      "Iteration 7, inertia 949.1063901695063.\n",
      "Converged at iteration 7: center shift 6.170212255861927e-05 within tolerance 0.00010000000000000022.\n",
      "Initialization complete\n",
      "Iteration 0, inertia 4504.217117668695.\n",
      "Iteration 1, inertia 1391.1160634685345.\n",
      "Iteration 2, inertia 1218.5405416591882.\n",
      "Iteration 3, inertia 1166.8333900230878.\n",
      "Iteration 4, inertia 1130.0794714681274.\n",
      "Iteration 5, inertia 1096.7071295796798.\n",
      "Iteration 6, inertia 1057.3588989045882.\n",
      "Iteration 7, inertia 1005.7148288085742.\n",
      "Iteration 8, inertia 973.4477498002236.\n",
      "Iteration 9, inertia 963.4392375193627.\n",
      "Iteration 10, inertia 959.4337018531246.\n",
      "Iteration 11, inertia 956.2945661263948.\n",
      "Iteration 12, inertia 952.0674807042122.\n",
      "Iteration 13, inertia 950.3033616299278.\n",
      "Iteration 14, inertia 949.1063901695063.\n",
      "Converged at iteration 14: center shift 6.170212255862045e-05 within tolerance 0.00010000000000000022.\n"
     ]
    },
    {
     "data": {
      "text/html": [
       "<style>#sk-container-id-1 {color: black;background-color: white;}#sk-container-id-1 pre{padding: 0;}#sk-container-id-1 div.sk-toggleable {background-color: white;}#sk-container-id-1 label.sk-toggleable__label {cursor: pointer;display: block;width: 100%;margin-bottom: 0;padding: 0.3em;box-sizing: border-box;text-align: center;}#sk-container-id-1 label.sk-toggleable__label-arrow:before {content: \"▸\";float: left;margin-right: 0.25em;color: #696969;}#sk-container-id-1 label.sk-toggleable__label-arrow:hover:before {color: black;}#sk-container-id-1 div.sk-estimator:hover label.sk-toggleable__label-arrow:before {color: black;}#sk-container-id-1 div.sk-toggleable__content {max-height: 0;max-width: 0;overflow: hidden;text-align: left;background-color: #f0f8ff;}#sk-container-id-1 div.sk-toggleable__content pre {margin: 0.2em;color: black;border-radius: 0.25em;background-color: #f0f8ff;}#sk-container-id-1 input.sk-toggleable__control:checked~div.sk-toggleable__content {max-height: 200px;max-width: 100%;overflow: auto;}#sk-container-id-1 input.sk-toggleable__control:checked~label.sk-toggleable__label-arrow:before {content: \"▾\";}#sk-container-id-1 div.sk-estimator input.sk-toggleable__control:checked~label.sk-toggleable__label {background-color: #d4ebff;}#sk-container-id-1 div.sk-label input.sk-toggleable__control:checked~label.sk-toggleable__label {background-color: #d4ebff;}#sk-container-id-1 input.sk-hidden--visually {border: 0;clip: rect(1px 1px 1px 1px);clip: rect(1px, 1px, 1px, 1px);height: 1px;margin: -1px;overflow: hidden;padding: 0;position: absolute;width: 1px;}#sk-container-id-1 div.sk-estimator {font-family: monospace;background-color: #f0f8ff;border: 1px dotted black;border-radius: 0.25em;box-sizing: border-box;margin-bottom: 0.5em;}#sk-container-id-1 div.sk-estimator:hover {background-color: #d4ebff;}#sk-container-id-1 div.sk-parallel-item::after {content: \"\";width: 100%;border-bottom: 1px solid gray;flex-grow: 1;}#sk-container-id-1 div.sk-label:hover label.sk-toggleable__label {background-color: #d4ebff;}#sk-container-id-1 div.sk-serial::before {content: \"\";position: absolute;border-left: 1px solid gray;box-sizing: border-box;top: 0;bottom: 0;left: 50%;z-index: 0;}#sk-container-id-1 div.sk-serial {display: flex;flex-direction: column;align-items: center;background-color: white;padding-right: 0.2em;padding-left: 0.2em;position: relative;}#sk-container-id-1 div.sk-item {position: relative;z-index: 1;}#sk-container-id-1 div.sk-parallel {display: flex;align-items: stretch;justify-content: center;background-color: white;position: relative;}#sk-container-id-1 div.sk-item::before, #sk-container-id-1 div.sk-parallel-item::before {content: \"\";position: absolute;border-left: 1px solid gray;box-sizing: border-box;top: 0;bottom: 0;left: 50%;z-index: -1;}#sk-container-id-1 div.sk-parallel-item {display: flex;flex-direction: column;z-index: 1;position: relative;background-color: white;}#sk-container-id-1 div.sk-parallel-item:first-child::after {align-self: flex-end;width: 50%;}#sk-container-id-1 div.sk-parallel-item:last-child::after {align-self: flex-start;width: 50%;}#sk-container-id-1 div.sk-parallel-item:only-child::after {width: 0;}#sk-container-id-1 div.sk-dashed-wrapped {border: 1px dashed gray;margin: 0 0.4em 0.5em 0.4em;box-sizing: border-box;padding-bottom: 0.4em;background-color: white;}#sk-container-id-1 div.sk-label label {font-family: monospace;font-weight: bold;display: inline-block;line-height: 1.2em;}#sk-container-id-1 div.sk-label-container {text-align: center;}#sk-container-id-1 div.sk-container {/* jupyter's `normalize.less` sets `[hidden] { display: none; }` but bootstrap.min.css set `[hidden] { display: none !important; }` so we also need the `!important` here to be able to override the default hidden behavior on the sphinx rendered scikit-learn.org. See: https://github.com/scikit-learn/scikit-learn/issues/21755 */display: inline-block !important;position: relative;}#sk-container-id-1 div.sk-text-repr-fallback {display: none;}</style><div id=\"sk-container-id-1\" class=\"sk-top-container\"><div class=\"sk-text-repr-fallback\"><pre>KMeans(init=&#x27;random&#x27;, n_clusters=3, n_init=&#x27;auto&#x27;, random_state=42, verbose=1)</pre><b>In a Jupyter environment, please rerun this cell to show the HTML representation or trust the notebook. <br />On GitHub, the HTML representation is unable to render, please try loading this page with nbviewer.org.</b></div><div class=\"sk-container\" hidden><div class=\"sk-item\"><div class=\"sk-estimator sk-toggleable\"><input class=\"sk-toggleable__control sk-hidden--visually\" id=\"sk-estimator-id-1\" type=\"checkbox\" checked><label for=\"sk-estimator-id-1\" class=\"sk-toggleable__label sk-toggleable__label-arrow\">KMeans</label><div class=\"sk-toggleable__content\"><pre>KMeans(init=&#x27;random&#x27;, n_clusters=3, n_init=&#x27;auto&#x27;, random_state=42, verbose=1)</pre></div></div></div></div></div>"
      ],
      "text/plain": [
       "KMeans(init='random', n_clusters=3, n_init='auto', random_state=42, verbose=1)"
      ]
     },
     "execution_count": 8,
     "metadata": {},
     "output_type": "execute_result"
    }
   ],
   "source": [
    "from sklearn.cluster import KMeans\n",
    "from sklearn.metrics import silhouette_score\n",
    "\n",
    "kmeans = KMeans(n_clusters=3, init='random', n_init='auto', random_state=42, verbose=1)\n",
    "kmeans.fit(df_numericos_) # Ajusta um modelo aos dados"
   ]
  },
  {
   "cell_type": "code",
   "execution_count": 9,
   "metadata": {
    "ExecuteTime": {
     "end_time": "2023-04-01T14:34:57.494146Z",
     "start_time": "2023-04-01T14:34:52.538047Z"
    },
    "id": "_uxipBrpsyUk"
   },
   "outputs": [],
   "source": [
    "regras = apriori(registros, min_support = 0.003, min_confidence = 0.2, min_lift = 3, min_length = 2)"
   ]
  },
  {
   "cell_type": "code",
   "execution_count": 10,
   "metadata": {
    "colab": {
     "base_uri": "https://localhost:8080/"
    },
    "executionInfo": {
     "elapsed": 272,
     "status": "ok",
     "timestamp": 1711374960313,
     "user": {
      "displayName": "Anthony Lima",
      "userId": "00908832099265320448"
     },
     "user_tz": 180
    },
    "id": "ATfpcZUT4_RP",
    "outputId": "1dd3da21-0db6-446b-88c8-e5531f392c0a"
   },
   "outputs": [
    {
     "name": "stdout",
     "output_type": "stream",
     "text": [
      "Centróide 1º cluster:  [ 0.57177293 -0.04661715]\n",
      "Centróide 2º cluster:  [1.01650469 1.61180187]\n",
      "Centróide 3º cluster:  [-0.91507991 -0.64608801]\n"
     ]
    }
   ],
   "source": [
    "print(\"Centróide 1º cluster: \", kmeans.cluster_centers_[0])\n",
    "print(\"Centróide 2º cluster: \", kmeans.cluster_centers_[1])\n",
    "print(\"Centróide 3º cluster: \", kmeans.cluster_centers_[2])"
   ]
  },
  {
   "cell_type": "markdown",
   "metadata": {
    "id": "zOieOm1GsyUl"
   },
   "source": [
    "**Avaliação pelo Cotovelo**"
   ]
  },
  {
   "cell_type": "code",
   "execution_count": 11,
   "metadata": {
    "ExecuteTime": {
     "end_time": "2023-04-01T14:35:03.700963Z",
     "start_time": "2023-04-01T14:35:03.255433Z"
    },
    "id": "60InL8sQsyUl"
   },
   "outputs": [],
   "source": [
    "wcss = []\n",
    "for k in range(2, 11):\n",
    "    kmeans = KMeans(n_clusters=k, init='random', n_init='auto', random_state=42)\n",
    "    kmeans.fit(df_numericos_)\n",
    "    wcss.append(kmeans.inertia_)"
   ]
  },
  {
   "cell_type": "code",
   "execution_count": 12,
   "metadata": {
    "colab": {
     "base_uri": "https://localhost:8080/",
     "height": 478
    },
    "executionInfo": {
     "elapsed": 514,
     "status": "ok",
     "timestamp": 1711376010340,
     "user": {
      "displayName": "Anthony Lima",
      "userId": "00908832099265320448"
     },
     "user_tz": 180
    },
    "id": "gQc-7WWs5ccP",
    "outputId": "8dc47c43-2b2d-4ffc-b2d9-1cc1a473e3bc"
   },
   "outputs": [
    {
     "data": {
      "image/png": "[encoded data removed]",
      "text/plain": [
       "<Figure size 640x480 with 1 Axes>"
      ]
     },
     "metadata": {},
     "output_type": "display_data"
    }
   ],
   "source": [
    "plt.style.use(\"fivethirtyeight\")\n",
    "plt.plot(range(2, 11), wcss)\n",
    "plt.xticks(range(2, 11))\n",
    "plt.xlabel(\"Grupos\")\n",
    "plt.show()"
   ]
  },
  {
   "cell_type": "markdown",
   "metadata": {
    "ExecuteTime": {
     "end_time": "2023-04-01T14:28:40.618575Z",
     "start_time": "2023-04-01T14:28:40.606710Z"
    },
    "id": "8Db4fvghsyUm"
   },
   "source": [
    "**Avaliação pela Silhueta**"
   ]
  },
  {
   "cell_type": "code",
   "execution_count": 13,
   "metadata": {
    "ExecuteTime": {
     "end_time": "2023-04-01T14:31:48.650261Z",
     "start_time": "2023-04-01T14:31:48.337193Z"
    },
    "id": "wXCMLsRUsyUm",
    "scrolled": true
   },
   "outputs": [],
   "source": [
    "silhuetas = []\n",
    "for k in range(2, 11):\n",
    "    kmeans = KMeans(n_clusters=k, init='random', n_init='auto', random_state=42)\n",
    "    kmeans.fit(df_numericos_)\n",
    "    score = silhouette_score(df_numericos_, kmeans.labels_)\n",
    "    silhuetas.append(score)"
   ]
  },
  {
   "cell_type": "code",
   "execution_count": 14,
   "metadata": {
    "colab": {
     "base_uri": "https://localhost:8080/",
     "height": 478
    },
    "executionInfo": {
     "elapsed": 924,
     "status": "ok",
     "timestamp": 1711375056599,
     "user": {
      "displayName": "Anthony Lima",
      "userId": "00908832099265320448"
     },
     "user_tz": 180
    },
    "id": "E5C6VASj5thD",
    "outputId": "c0339e08-8cac-455b-a3ee-1c51ec5d0e2b"
   },
   "outputs": [
    {
     "data": {
      "image/png": "[encoded data removed]",
      "text/plain": [
       "<Figure size 640x480 with 1 Axes>"
      ]
     },
     "metadata": {},
     "output_type": "display_data"
    }
   ],
   "source": [
    "plt.style.use(\"fivethirtyeight\")\n",
    "plt.plot(range(2, 11), silhuetas)\n",
    "plt.xticks(range(2, 11))\n",
    "plt.xlabel(\"Grupos\")\n",
    "plt.ylabel(\"Silhueta\")\n",
    "plt.show()"
   ]
  },
  {
   "cell_type": "markdown",
   "metadata": {
    "id": "ndgBnPVmsyUn"
   },
   "source": [
    "### Análise de Negócio"
   ]
  },
  {
   "cell_type": "markdown",
   "metadata": {
    "id": "_UQaDjq1syUn"
   },
   "source": [
    "**Rotulação**"
   ]
  },
  {
   "cell_type": "code",
   "execution_count": 15,
   "metadata": {
    "ExecuteTime": {
     "end_time": "2023-04-01T14:39:26.328630Z",
     "start_time": "2023-04-01T14:39:26.135947Z"
    },
    "colab": {
     "base_uri": "https://localhost:8080/"
    },
    "executionInfo": {
     "elapsed": 267,
     "status": "ok",
     "timestamp": 1711378117601,
     "user": {
      "displayName": "Anthony Lima",
      "userId": "00908832099265320448"
     },
     "user_tz": 180
    },
    "id": "sDXutC4RsyUo",
    "outputId": "0636616f-8e24-4688-943c-7108cfa6fcc3"
   },
   "outputs": [
    {
     "data": {
      "text/plain": [
       "array([[-1.03816735, -0.11085635],\n",
       "       [ 1.51519439,  2.85807825],\n",
       "       [ 1.27201708,  1.58567771],\n",
       "       ...,\n",
       "       [ 0.78566246,  2.00981122],\n",
       "       [ 0.05613054,  0.31327716],\n",
       "       [-1.88928793, -0.95912338]])"
      ]
     },
     "execution_count": 15,
     "metadata": {},
     "output_type": "execute_result"
    }
   ],
   "source": [
    "df_numericos_"
   ]
  },
  {
   "cell_type": "markdown",
   "metadata": {
    "id": "E8-QmRjMsyU0"
   },
   "source": [
    "**Interpretação dos Grupos**"
   ]
  },
  {
   "cell_type": "code",
   "execution_count": 16,
   "metadata": {
    "id": "G2nFj2T8F8zV"
   },
   "outputs": [],
   "source": [
    "regras = apriori(registros, min_support = 0.003, min_confidence = 0.2, min_lift = 3, min_length = 2)"
   ]
  },
  {
   "cell_type": "code",
   "execution_count": 17,
   "metadata": {
    "id": "Z2YQhZx3GAHj"
   },
   "outputs": [],
   "source": [
    "lista_regras = list(regras)"
   ]
  },
  {
   "cell_type": "code",
   "execution_count": 18,
   "metadata": {
    "ExecuteTime": {
     "end_time": "2023-04-01T14:50:45.790439Z",
     "start_time": "2023-04-01T14:50:45.664994Z"
    },
    "id": "-hMruEfVsyU3",
    "scrolled": true
   },
   "outputs": [],
   "source": [
    "def inspect(results):\n",
    "    lhs         = [tuple(result[2][0][0])[0] for result in results]\n",
    "    rhs         = [tuple(result[2][0][1])[0] for result in results]\n",
    "    supports    = [result[1] for result in results]\n",
    "    confidences = [result[2][0][2] for result in results]\n",
    "    lifts       = [result[2][0][3] for result in results]\n",
    "    return list(zip(lhs, rhs, supports, confidences, lifts))"
   ]
  },
  {
   "cell_type": "code",
   "execution_count": 19,
   "metadata": {
    "id": "-hUUQlXJFwAa"
   },
   "outputs": [],
   "source": [
    "df_resultados = pd.DataFrame(inspect(lista_regras),\n",
    "                             columns = ['Antecedente', 'Consequente', 'Suporte', 'Confiança', 'Lift'])"
   ]
  },
  {
   "cell_type": "code",
   "execution_count": 20,
   "metadata": {
    "colab": {
     "base_uri": "https://localhost:8080/",
     "height": 363
    },
    "executionInfo": {
     "elapsed": 391,
     "status": "ok",
     "timestamp": 1711379971011,
     "user": {
      "displayName": "Anthony Lima",
      "userId": "00908832099265320448"
     },
     "user_tz": 180
    },
    "id": "RAUZFt_nFyeP",
    "outputId": "19709e59-aca1-4e47-9f25-3f37814ebfd9"
   },
   "outputs": [
    {
     "data": {
      "text/html": [
       "<div>\n",
       "<style scoped>\n",
       "    .dataframe tbody tr th:only-of-type {\n",
       "        vertical-align: middle;\n",
       "    }\n",
       "\n",
       "    .dataframe tbody tr th {\n",
       "        vertical-align: top;\n",
       "    }\n",
       "\n",
       "    .dataframe thead th {\n",
       "        text-align: right;\n",
       "    }\n",
       "</style>\n",
       "<table border=\"1\" class=\"dataframe\">\n",
       "  <thead>\n",
       "    <tr style=\"text-align: right;\">\n",
       "      <th></th>\n",
       "      <th>Antecedente</th>\n",
       "      <th>Consequente</th>\n",
       "      <th>Suporte</th>\n",
       "      <th>Confiança</th>\n",
       "      <th>Lift</th>\n",
       "    </tr>\n",
       "  </thead>\n",
       "  <tbody>\n",
       "    <tr>\n",
       "      <th>0</th>\n",
       "      <td>49</td>\n",
       "      <td>6</td>\n",
       "      <td>0.004073</td>\n",
       "      <td>0.250000</td>\n",
       "      <td>3.959677</td>\n",
       "    </tr>\n",
       "    <tr>\n",
       "      <th>1</th>\n",
       "      <td>49</td>\n",
       "      <td>6</td>\n",
       "      <td>0.004073</td>\n",
       "      <td>0.250000</td>\n",
       "      <td>4.281977</td>\n",
       "    </tr>\n",
       "    <tr>\n",
       "      <th>2</th>\n",
       "      <td>1</td>\n",
       "      <td>5</td>\n",
       "      <td>0.006110</td>\n",
       "      <td>0.281250</td>\n",
       "      <td>3.046186</td>\n",
       "    </tr>\n",
       "    <tr>\n",
       "      <th>3</th>\n",
       "      <td>49</td>\n",
       "      <td>6</td>\n",
       "      <td>0.004073</td>\n",
       "      <td>0.250000</td>\n",
       "      <td>4.002717</td>\n",
       "    </tr>\n",
       "    <tr>\n",
       "      <th>4</th>\n",
       "      <td>2</td>\n",
       "      <td>6</td>\n",
       "      <td>0.006789</td>\n",
       "      <td>0.256410</td>\n",
       "      <td>4.061208</td>\n",
       "    </tr>\n",
       "    <tr>\n",
       "      <th>5</th>\n",
       "      <td>36</td>\n",
       "      <td>6</td>\n",
       "      <td>0.005431</td>\n",
       "      <td>0.216216</td>\n",
       "      <td>3.424586</td>\n",
       "    </tr>\n",
       "    <tr>\n",
       "      <th>6</th>\n",
       "      <td>41</td>\n",
       "      <td>4</td>\n",
       "      <td>0.005431</td>\n",
       "      <td>0.228571</td>\n",
       "      <td>3.400866</td>\n",
       "    </tr>\n",
       "    <tr>\n",
       "      <th>7</th>\n",
       "      <td>43</td>\n",
       "      <td>5</td>\n",
       "      <td>0.004752</td>\n",
       "      <td>0.280000</td>\n",
       "      <td>3.032647</td>\n",
       "    </tr>\n",
       "    <tr>\n",
       "      <th>8</th>\n",
       "      <td>49</td>\n",
       "      <td>4</td>\n",
       "      <td>0.004073</td>\n",
       "      <td>0.250000</td>\n",
       "      <td>6.575893</td>\n",
       "    </tr>\n",
       "    <tr>\n",
       "      <th>9</th>\n",
       "      <td>1</td>\n",
       "      <td>0</td>\n",
       "      <td>0.006110</td>\n",
       "      <td>0.281250</td>\n",
       "      <td>3.211483</td>\n",
       "    </tr>\n",
       "  </tbody>\n",
       "</table>\n",
       "</div>"
      ],
      "text/plain": [
       "  Antecedente Consequente   Suporte  Confiança      Lift\n",
       "0          49           6  0.004073   0.250000  3.959677\n",
       "1          49           6  0.004073   0.250000  4.281977\n",
       "2           1           5  0.006110   0.281250  3.046186\n",
       "3          49           6  0.004073   0.250000  4.002717\n",
       "4           2           6  0.006789   0.256410  4.061208\n",
       "5          36           6  0.005431   0.216216  3.424586\n",
       "6          41           4  0.005431   0.228571  3.400866\n",
       "7          43           5  0.004752   0.280000  3.032647\n",
       "8          49           4  0.004073   0.250000  6.575893\n",
       "9           1           0  0.006110   0.281250  3.211483"
      ]
     },
     "execution_count": 20,
     "metadata": {},
     "output_type": "execute_result"
    }
   ],
   "source": [
    "df_resultados.head(10)"
   ]
  },
  {
   "cell_type": "markdown",
   "metadata": {
    "id": "uw31awn7syU3"
   },
   "source": [
    "**Análise com a Classe**"
   ]
  },
  {
   "cell_type": "code",
   "execution_count": 21,
   "metadata": {
    "ExecuteTime": {
     "end_time": "2023-04-01T14:59:25.922900Z",
     "start_time": "2023-04-01T14:59:25.899835Z"
    },
    "id": "l-_Xuf9ZsyU3"
   },
   "outputs": [
    {
     "ename": "FileNotFoundError",
     "evalue": "[Errno 2] No such file or directory: 'dataBase/contraceptive_class.csv'",
     "output_type": "error",
     "traceback": [
      "\u001b[1;31m---------------------------------------------------------------------------\u001b[0m",
      "\u001b[1;31mFileNotFoundError\u001b[0m                         Traceback (most recent call last)",
      "Cell \u001b[1;32mIn[21], line 2\u001b[0m\n\u001b[0;32m      1\u001b[0m \u001b[38;5;28;01mimport\u001b[39;00m \u001b[38;5;21;01mpandas\u001b[39;00m \u001b[38;5;28;01mas\u001b[39;00m \u001b[38;5;21;01mpd\u001b[39;00m\n\u001b[1;32m----> 2\u001b[0m classe \u001b[38;5;241m=\u001b[39m pd\u001b[38;5;241m.\u001b[39mread_csv(\u001b[38;5;124m'\u001b[39m\u001b[38;5;124mdataBase/contraceptive_class.csv\u001b[39m\u001b[38;5;124m'\u001b[39m)\n",
      "File \u001b[1;32m~\\anaconda3\\Lib\\site-packages\\pandas\\io\\parsers\\readers.py:948\u001b[0m, in \u001b[0;36mread_csv\u001b[1;34m(filepath_or_buffer, sep, delimiter, header, names, index_col, usecols, dtype, engine, converters, true_values, false_values, skipinitialspace, skiprows, skipfooter, nrows, na_values, keep_default_na, na_filter, verbose, skip_blank_lines, parse_dates, infer_datetime_format, keep_date_col, date_parser, date_format, dayfirst, cache_dates, iterator, chunksize, compression, thousands, decimal, lineterminator, quotechar, quoting, doublequote, escapechar, comment, encoding, encoding_errors, dialect, on_bad_lines, delim_whitespace, low_memory, memory_map, float_precision, storage_options, dtype_backend)\u001b[0m\n\u001b[0;32m    935\u001b[0m kwds_defaults \u001b[38;5;241m=\u001b[39m _refine_defaults_read(\n\u001b[0;32m    936\u001b[0m     dialect,\n\u001b[0;32m    937\u001b[0m     delimiter,\n\u001b[1;32m   (...)\u001b[0m\n\u001b[0;32m    944\u001b[0m     dtype_backend\u001b[38;5;241m=\u001b[39mdtype_backend,\n\u001b[0;32m    945\u001b[0m )\n\u001b[0;32m    946\u001b[0m kwds\u001b[38;5;241m.\u001b[39mupdate(kwds_defaults)\n\u001b[1;32m--> 948\u001b[0m \u001b[38;5;28;01mreturn\u001b[39;00m _read(filepath_or_buffer, kwds)\n",
      "File \u001b[1;32m~\\anaconda3\\Lib\\site-packages\\pandas\\io\\parsers\\readers.py:611\u001b[0m, in \u001b[0;36m_read\u001b[1;34m(filepath_or_buffer, kwds)\u001b[0m\n\u001b[0;32m    608\u001b[0m _validate_names(kwds\u001b[38;5;241m.\u001b[39mget(\u001b[38;5;124m\"\u001b[39m\u001b[38;5;124mnames\u001b[39m\u001b[38;5;124m\"\u001b[39m, \u001b[38;5;28;01mNone\u001b[39;00m))\n\u001b[0;32m    610\u001b[0m \u001b[38;5;66;03m# Create the parser.\u001b[39;00m\n\u001b[1;32m--> 611\u001b[0m parser \u001b[38;5;241m=\u001b[39m TextFileReader(filepath_or_buffer, \u001b[38;5;241m*\u001b[39m\u001b[38;5;241m*\u001b[39mkwds)\n\u001b[0;32m    613\u001b[0m \u001b[38;5;28;01mif\u001b[39;00m chunksize \u001b[38;5;129;01mor\u001b[39;00m iterator:\n\u001b[0;32m    614\u001b[0m     \u001b[38;5;28;01mreturn\u001b[39;00m parser\n",
      "File \u001b[1;32m~\\anaconda3\\Lib\\site-packages\\pandas\\io\\parsers\\readers.py:1448\u001b[0m, in \u001b[0;36mTextFileReader.__init__\u001b[1;34m(self, f, engine, **kwds)\u001b[0m\n\u001b[0;32m   1445\u001b[0m     \u001b[38;5;28mself\u001b[39m\u001b[38;5;241m.\u001b[39moptions[\u001b[38;5;124m\"\u001b[39m\u001b[38;5;124mhas_index_names\u001b[39m\u001b[38;5;124m\"\u001b[39m] \u001b[38;5;241m=\u001b[39m kwds[\u001b[38;5;124m\"\u001b[39m\u001b[38;5;124mhas_index_names\u001b[39m\u001b[38;5;124m\"\u001b[39m]\n\u001b[0;32m   1447\u001b[0m \u001b[38;5;28mself\u001b[39m\u001b[38;5;241m.\u001b[39mhandles: IOHandles \u001b[38;5;241m|\u001b[39m \u001b[38;5;28;01mNone\u001b[39;00m \u001b[38;5;241m=\u001b[39m \u001b[38;5;28;01mNone\u001b[39;00m\n\u001b[1;32m-> 1448\u001b[0m \u001b[38;5;28mself\u001b[39m\u001b[38;5;241m.\u001b[39m_engine \u001b[38;5;241m=\u001b[39m \u001b[38;5;28mself\u001b[39m\u001b[38;5;241m.\u001b[39m_make_engine(f, \u001b[38;5;28mself\u001b[39m\u001b[38;5;241m.\u001b[39mengine)\n",
      "File \u001b[1;32m~\\anaconda3\\Lib\\site-packages\\pandas\\io\\parsers\\readers.py:1705\u001b[0m, in \u001b[0;36mTextFileReader._make_engine\u001b[1;34m(self, f, engine)\u001b[0m\n\u001b[0;32m   1703\u001b[0m     \u001b[38;5;28;01mif\u001b[39;00m \u001b[38;5;124m\"\u001b[39m\u001b[38;5;124mb\u001b[39m\u001b[38;5;124m\"\u001b[39m \u001b[38;5;129;01mnot\u001b[39;00m \u001b[38;5;129;01min\u001b[39;00m mode:\n\u001b[0;32m   1704\u001b[0m         mode \u001b[38;5;241m+\u001b[39m\u001b[38;5;241m=\u001b[39m \u001b[38;5;124m\"\u001b[39m\u001b[38;5;124mb\u001b[39m\u001b[38;5;124m\"\u001b[39m\n\u001b[1;32m-> 1705\u001b[0m \u001b[38;5;28mself\u001b[39m\u001b[38;5;241m.\u001b[39mhandles \u001b[38;5;241m=\u001b[39m get_handle(\n\u001b[0;32m   1706\u001b[0m     f,\n\u001b[0;32m   1707\u001b[0m     mode,\n\u001b[0;32m   1708\u001b[0m     encoding\u001b[38;5;241m=\u001b[39m\u001b[38;5;28mself\u001b[39m\u001b[38;5;241m.\u001b[39moptions\u001b[38;5;241m.\u001b[39mget(\u001b[38;5;124m\"\u001b[39m\u001b[38;5;124mencoding\u001b[39m\u001b[38;5;124m\"\u001b[39m, \u001b[38;5;28;01mNone\u001b[39;00m),\n\u001b[0;32m   1709\u001b[0m     compression\u001b[38;5;241m=\u001b[39m\u001b[38;5;28mself\u001b[39m\u001b[38;5;241m.\u001b[39moptions\u001b[38;5;241m.\u001b[39mget(\u001b[38;5;124m\"\u001b[39m\u001b[38;5;124mcompression\u001b[39m\u001b[38;5;124m\"\u001b[39m, \u001b[38;5;28;01mNone\u001b[39;00m),\n\u001b[0;32m   1710\u001b[0m     memory_map\u001b[38;5;241m=\u001b[39m\u001b[38;5;28mself\u001b[39m\u001b[38;5;241m.\u001b[39moptions\u001b[38;5;241m.\u001b[39mget(\u001b[38;5;124m\"\u001b[39m\u001b[38;5;124mmemory_map\u001b[39m\u001b[38;5;124m\"\u001b[39m, \u001b[38;5;28;01mFalse\u001b[39;00m),\n\u001b[0;32m   1711\u001b[0m     is_text\u001b[38;5;241m=\u001b[39mis_text,\n\u001b[0;32m   1712\u001b[0m     errors\u001b[38;5;241m=\u001b[39m\u001b[38;5;28mself\u001b[39m\u001b[38;5;241m.\u001b[39moptions\u001b[38;5;241m.\u001b[39mget(\u001b[38;5;124m\"\u001b[39m\u001b[38;5;124mencoding_errors\u001b[39m\u001b[38;5;124m\"\u001b[39m, \u001b[38;5;124m\"\u001b[39m\u001b[38;5;124mstrict\u001b[39m\u001b[38;5;124m\"\u001b[39m),\n\u001b[0;32m   1713\u001b[0m     storage_options\u001b[38;5;241m=\u001b[39m\u001b[38;5;28mself\u001b[39m\u001b[38;5;241m.\u001b[39moptions\u001b[38;5;241m.\u001b[39mget(\u001b[38;5;124m\"\u001b[39m\u001b[38;5;124mstorage_options\u001b[39m\u001b[38;5;124m\"\u001b[39m, \u001b[38;5;28;01mNone\u001b[39;00m),\n\u001b[0;32m   1714\u001b[0m )\n\u001b[0;32m   1715\u001b[0m \u001b[38;5;28;01massert\u001b[39;00m \u001b[38;5;28mself\u001b[39m\u001b[38;5;241m.\u001b[39mhandles \u001b[38;5;129;01mis\u001b[39;00m \u001b[38;5;129;01mnot\u001b[39;00m \u001b[38;5;28;01mNone\u001b[39;00m\n\u001b[0;32m   1716\u001b[0m f \u001b[38;5;241m=\u001b[39m \u001b[38;5;28mself\u001b[39m\u001b[38;5;241m.\u001b[39mhandles\u001b[38;5;241m.\u001b[39mhandle\n",
      "File \u001b[1;32m~\\anaconda3\\Lib\\site-packages\\pandas\\io\\common.py:863\u001b[0m, in \u001b[0;36mget_handle\u001b[1;34m(path_or_buf, mode, encoding, compression, memory_map, is_text, errors, storage_options)\u001b[0m\n\u001b[0;32m    858\u001b[0m \u001b[38;5;28;01melif\u001b[39;00m \u001b[38;5;28misinstance\u001b[39m(handle, \u001b[38;5;28mstr\u001b[39m):\n\u001b[0;32m    859\u001b[0m     \u001b[38;5;66;03m# Check whether the filename is to be opened in binary mode.\u001b[39;00m\n\u001b[0;32m    860\u001b[0m     \u001b[38;5;66;03m# Binary mode does not support 'encoding' and 'newline'.\u001b[39;00m\n\u001b[0;32m    861\u001b[0m     \u001b[38;5;28;01mif\u001b[39;00m ioargs\u001b[38;5;241m.\u001b[39mencoding \u001b[38;5;129;01mand\u001b[39;00m \u001b[38;5;124m\"\u001b[39m\u001b[38;5;124mb\u001b[39m\u001b[38;5;124m\"\u001b[39m \u001b[38;5;129;01mnot\u001b[39;00m \u001b[38;5;129;01min\u001b[39;00m ioargs\u001b[38;5;241m.\u001b[39mmode:\n\u001b[0;32m    862\u001b[0m         \u001b[38;5;66;03m# Encoding\u001b[39;00m\n\u001b[1;32m--> 863\u001b[0m         handle \u001b[38;5;241m=\u001b[39m \u001b[38;5;28mopen\u001b[39m(\n\u001b[0;32m    864\u001b[0m             handle,\n\u001b[0;32m    865\u001b[0m             ioargs\u001b[38;5;241m.\u001b[39mmode,\n\u001b[0;32m    866\u001b[0m             encoding\u001b[38;5;241m=\u001b[39mioargs\u001b[38;5;241m.\u001b[39mencoding,\n\u001b[0;32m    867\u001b[0m             errors\u001b[38;5;241m=\u001b[39merrors,\n\u001b[0;32m    868\u001b[0m             newline\u001b[38;5;241m=\u001b[39m\u001b[38;5;124m\"\u001b[39m\u001b[38;5;124m\"\u001b[39m,\n\u001b[0;32m    869\u001b[0m         )\n\u001b[0;32m    870\u001b[0m     \u001b[38;5;28;01melse\u001b[39;00m:\n\u001b[0;32m    871\u001b[0m         \u001b[38;5;66;03m# Binary mode\u001b[39;00m\n\u001b[0;32m    872\u001b[0m         handle \u001b[38;5;241m=\u001b[39m \u001b[38;5;28mopen\u001b[39m(handle, ioargs\u001b[38;5;241m.\u001b[39mmode)\n",
      "\u001b[1;31mFileNotFoundError\u001b[0m: [Errno 2] No such file or directory: 'dataBase/contraceptive_class.csv'"
     ]
    }
   ],
   "source": [
    "import pandas as pd\n",
    "classe = pd.read_csv('dataBase/contraceptive_class.csv')"
   ]
  },
  {
   "cell_type": "code",
   "execution_count": null,
   "metadata": {
    "ExecuteTime": {
     "end_time": "2023-04-01T14:59:28.943008Z",
     "start_time": "2023-04-01T14:59:28.913249Z"
    },
    "id": "ZDroXRbPsyU4"
   },
   "outputs": [],
   "source": [
    "classe.head()"
   ]
  },
  {
   "cell_type": "code",
   "execution_count": null,
   "metadata": {
    "ExecuteTime": {
     "end_time": "2023-04-01T14:59:52.397260Z",
     "start_time": "2023-04-01T14:59:52.370228Z"
    },
    "id": "WzEkLLqAsyU4"
   },
   "outputs": [],
   "source": [
    "classe['Contraceptive'].value_counts()"
   ]
  },
  {
   "cell_type": "code",
   "execution_count": null,
   "metadata": {},
   "outputs": [],
   "source": []
  }
 ],
 "metadata": {
  "colab": {
   "provenance": []
  },
  "kernelspec": {
   "display_name": "Python 3 (ipykernel)",
   "language": "python",
   "name": "python3"
  },
  "language_info": {
   "codemirror_mode": {
    "name": "ipython",
    "version": 3
   },
   "file_extension": ".py",
   "mimetype": "text/x-python",
   "name": "python",
   "nbconvert_exporter": "python",
   "pygments_lexer": "ipython3",
   "version": "3.11.7"
  },
  "varInspector": {
   "cols": {
    "lenName": 16,
    "lenType": 16,
    "lenVar": 40
   },
   "kernels_config": {
    "python": {
     "delete_cmd_postfix": "",
     "delete_cmd_prefix": "del ",
     "library": "var_list.py",
     "varRefreshCmd": "print(var_dic_list())"
    },
    "r": {
     "delete_cmd_postfix": ") ",
     "delete_cmd_prefix": "rm(",
     "library": "var_list.r",
     "varRefreshCmd": "cat(var_dic_list()) "
    }
   },
   "types_to_exclude": [
    "module",
    "function",
    "builtin_function_or_method",
    "instance",
    "_Feature"
   ],
   "window_display": false
  }
 },
 "nbformat": 4,
 "nbformat_minor": 4
}
