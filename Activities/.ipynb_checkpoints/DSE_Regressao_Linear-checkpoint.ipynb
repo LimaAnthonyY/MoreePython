{
  "cells": [
    {
      "cell_type": "markdown",
      "id": "c8aa5fa0",
      "metadata": {
        "id": "c8aa5fa0"
      },
      "source": [
        "# **Regressão Linear**\n",
        "\n",
        "*Prof. Orlando Junior*"
      ]
    },
    {
      "cell_type": "markdown",
      "id": "9dff3da1",
      "metadata": {
        "id": "9dff3da1"
      },
      "source": [
        "A análise de regressão linear é usada para prever o valor de uma variável com base no valor de outra. A variável que deseja prever é chamada de variável dependente. A variável que é usada para prever o valor de outra variável é chamada de variável independente.\n",
        "\n",
        "Essa forma de análise estima os coeficientes da equação linear, envolvendo uma ou mais variáveis independentes que melhor preveem o valor da variável dependente. A regressão linear se ajusta a uma linha reta ou superficial que minimiza as discrepâncias entre os valores de saída previstos e reais. Há calculadoras de regressão linear simples que usam um método dos mínimos quadrados para descobrir a linha de melhor ajuste para um conjunto de dados emparelhados. Em seguida, o valor de X (variável dependente) de Y (variável independente) é estimado."
      ]
    },
    {
      "cell_type": "markdown",
      "id": "08b65596",
      "metadata": {
        "id": "08b65596"
      },
      "source": [
        "## Evolução da Diabetes"
      ]
    },
    {
      "cell_type": "markdown",
      "id": "6aba8cdc",
      "metadata": {
        "id": "6aba8cdc"
      },
      "source": [
        "**Diabetes** é uma doença causada pela produção insuficiente ou má absorção de insulina, hormônio que regula a glicose no sangue e garante energia para o organismo. A insulina é um hormônio que tem a função de quebrar as moléculas de glicose(açúcar) transformando-a em energia para manutenção das células do nosso organismo. O diabetes pode causar o aumento da glicemia e as altas taxas podem levar a complicações no coração, nas artérias, nos olhos, nos rins e nos nervos. Em casos mais graves, o diabetes pode levar à morte.\n",
        "\n",
        "De acordo com a Sociedade Brasileira de Diabetes, existem atualmente, no Brasil, mais de 13 milhões de pessoas vivendo com a doença, o que representa 6,9% da população nacional. A melhor forma de prevenir é praticando atividades físicas regularmente, mantendo uma alimentação saudável e evitando consumo de álcool, tabaco e outras drogas. Comportamentos saudáveis evitam não apenas o diabetes, mas outras doenças crônicas, como o câncer."
      ]
    },
    {
      "cell_type": "markdown",
      "id": "a23cdd2d",
      "metadata": {
        "id": "a23cdd2d"
      },
      "source": [
        "![picture](https://newslab.com.br/wp-content/uploads/2021/11/960x720-71.png)"
      ]
    },
    {
      "cell_type": "markdown",
      "id": "8acfe376",
      "metadata": {
        "id": "8acfe376"
      },
      "source": [
        "Neste problema, usaremos um conjunto de dados com 10 variáveis preditoras (idade, sexo, índice de massa corporal, pressão arterial média e seis medições de soro sanguíneo) que foram obtidas para cada um dos 442 pacientes com diabetes, bem como a resposta de interesse, que é uma medida quantitativa da progressão da doença um ano após as condições iniciais observadas."
      ]
    },
    {
      "cell_type": "markdown",
      "id": "1a45f736",
      "metadata": {
        "id": "1a45f736"
      },
      "source": [
        "**Variáveis explicativas do conjunto de dados:**\n",
        "\n",
        "* age – age in years\n",
        "* sex\n",
        "* bmi – body mass index\n",
        "* bp – average blood pressure\n",
        "* s1 – tc, total serum cholesterol\n",
        "* s2 – ldl, low-density lipoproteins\n",
        "* s3 – hdl, high-density lipoproteins\n",
        "* s4 – tch, total cholesterol / HDL\n",
        "* s5 – ltg, possibly log of serum triglycerides level\n",
        "* s6 – glu, blood sugar level"
      ]
    },
    {
      "cell_type": "markdown",
      "id": "01ead7ee",
      "metadata": {
        "id": "01ead7ee"
      },
      "source": [
        "## Bibliotecas"
      ]
    },
    {
      "cell_type": "code",
      "execution_count": null,
      "id": "1421e1ca",
      "metadata": {
        "ExecuteTime": {
          "end_time": "2023-07-15T00:38:39.178356Z",
          "start_time": "2023-07-15T00:38:34.232373Z"
        },
        "id": "1421e1ca"
      },
      "outputs": [],
      "source": [
        "import numpy as np\n",
        "import pandas as pd\n",
        "import matplotlib.pyplot as plt"
      ]
    },
    {
      "cell_type": "code",
      "execution_count": null,
      "id": "aa5f5925",
      "metadata": {
        "ExecuteTime": {
          "end_time": "2023-07-15T00:38:45.723075Z",
          "start_time": "2023-07-15T00:38:39.216171Z"
        },
        "id": "aa5f5925"
      },
      "outputs": [],
      "source": [
        "from sklearn.datasets import load_diabetes"
      ]
    },
    {
      "cell_type": "code",
      "execution_count": null,
      "id": "68f7bad8",
      "metadata": {
        "ExecuteTime": {
          "end_time": "2023-07-15T00:39:00.063300Z",
          "start_time": "2023-07-15T00:39:00.048989Z"
        },
        "id": "68f7bad8"
      },
      "outputs": [],
      "source": [
        "from sklearn.preprocessing import StandardScaler # normalização"
      ]
    },
    {
      "cell_type": "code",
      "execution_count": null,
      "id": "9d250a72",
      "metadata": {
        "ExecuteTime": {
          "end_time": "2023-07-15T00:39:48.722954Z",
          "start_time": "2023-07-15T00:39:48.114499Z"
        },
        "id": "9d250a72"
      },
      "outputs": [],
      "source": [
        "from sklearn.model_selection import train_test_split"
      ]
    },
    {
      "cell_type": "code",
      "execution_count": null,
      "id": "7496e072",
      "metadata": {
        "ExecuteTime": {
          "end_time": "2023-07-15T00:39:54.861973Z",
          "start_time": "2023-07-15T00:39:54.355334Z"
        },
        "id": "7496e072"
      },
      "outputs": [],
      "source": [
        "from sklearn.dummy import DummyRegressor\n",
        "from sklearn.linear_model import LinearRegression"
      ]
    },
    {
      "cell_type": "code",
      "execution_count": null,
      "id": "e517162f",
      "metadata": {
        "ExecuteTime": {
          "end_time": "2023-07-15T00:39:58.476048Z",
          "start_time": "2023-07-15T00:39:58.459188Z"
        },
        "id": "e517162f"
      },
      "outputs": [],
      "source": [
        "from sklearn.metrics import r2_score, mean_absolute_error, mean_squared_error"
      ]
    },
    {
      "cell_type": "markdown",
      "id": "90cd9c70",
      "metadata": {
        "id": "90cd9c70"
      },
      "source": [
        "## Dados"
      ]
    },
    {
      "cell_type": "code",
      "execution_count": null,
      "id": "a594b182",
      "metadata": {
        "ExecuteTime": {
          "end_time": "2023-07-15T00:45:26.557224Z",
          "start_time": "2023-07-15T00:45:26.524392Z"
        },
        "id": "a594b182"
      },
      "outputs": [],
      "source": [
        "X, y = load_diabetes(return_X_y=True, as_frame=True)"
      ]
    },
    {
      "cell_type": "code",
      "execution_count": null,
      "id": "130124ce",
      "metadata": {
        "ExecuteTime": {
          "end_time": "2023-07-15T00:45:37.819307Z",
          "start_time": "2023-07-15T00:45:37.786286Z"
        },
        "scrolled": true,
        "id": "130124ce"
      },
      "outputs": [],
      "source": [
        "# Informações do conjunto de dados\n",
        "X.info()"
      ]
    },
    {
      "cell_type": "code",
      "execution_count": null,
      "id": "df4f2ce1",
      "metadata": {
        "ExecuteTime": {
          "end_time": "2023-07-15T00:45:59.746183Z",
          "start_time": "2023-07-15T00:45:59.704300Z"
        },
        "scrolled": true,
        "id": "df4f2ce1"
      },
      "outputs": [],
      "source": [
        "# Conjunto de dados de entrada (X)\n",
        "X.head()"
      ]
    },
    {
      "cell_type": "code",
      "execution_count": null,
      "id": "2fb4067a",
      "metadata": {
        "ExecuteTime": {
          "end_time": "2023-07-15T00:46:22.940850Z",
          "start_time": "2023-07-15T00:46:22.850641Z"
        },
        "id": "2fb4067a"
      },
      "outputs": [],
      "source": [
        "# Estatísticas e medidas-resumo\n",
        "X.describe().T"
      ]
    },
    {
      "cell_type": "code",
      "source": [
        "X['sex'].value_counts()"
      ],
      "metadata": {
        "id": "NNreLZ1DBTns"
      },
      "id": "NNreLZ1DBTns",
      "execution_count": null,
      "outputs": []
    },
    {
      "cell_type": "code",
      "execution_count": null,
      "id": "f58d0db2",
      "metadata": {
        "ExecuteTime": {
          "end_time": "2023-07-15T00:46:50.584117Z",
          "start_time": "2023-07-15T00:46:49.943374Z"
        },
        "scrolled": true,
        "id": "f58d0db2"
      },
      "outputs": [],
      "source": [
        "# Plota um boxplot da entrada\n",
        "X.plot.box()\n",
        "plt.show()"
      ]
    },
    {
      "cell_type": "code",
      "execution_count": null,
      "id": "7f37dd87",
      "metadata": {
        "ExecuteTime": {
          "end_time": "2023-07-15T00:47:20.053963Z",
          "start_time": "2023-07-15T00:47:20.028412Z"
        },
        "scrolled": false,
        "id": "7f37dd87"
      },
      "outputs": [],
      "source": [
        "# Conjunto de dados de saída (y)\n",
        "y.head()"
      ]
    },
    {
      "cell_type": "code",
      "execution_count": null,
      "id": "151fd392",
      "metadata": {
        "ExecuteTime": {
          "end_time": "2023-07-15T00:47:28.261121Z",
          "start_time": "2023-07-15T00:47:28.005515Z"
        },
        "id": "151fd392"
      },
      "outputs": [],
      "source": [
        "# Plota um boxplot da saída\n",
        "y.plot.box()\n",
        "plt.show()"
      ]
    },
    {
      "cell_type": "code",
      "execution_count": null,
      "id": "6df2d399",
      "metadata": {
        "ExecuteTime": {
          "end_time": "2023-07-15T00:48:09.898661Z",
          "start_time": "2023-07-15T00:48:09.880678Z"
        },
        "id": "6df2d399"
      },
      "outputs": [],
      "source": [
        "# Mostra as medidas resumo da saída\n",
        "y.describe()"
      ]
    },
    {
      "cell_type": "code",
      "execution_count": null,
      "id": "4580c3d4",
      "metadata": {
        "ExecuteTime": {
          "end_time": "2023-07-15T00:48:53.320652Z",
          "start_time": "2023-07-15T00:48:53.296865Z"
        },
        "id": "4580c3d4"
      },
      "outputs": [],
      "source": [
        "# Separação em treinamento/teste\n",
        "X_train, X_test, y_train, y_test = train_test_split(X, y, test_size=0.3, random_state=42)"
      ]
    },
    {
      "cell_type": "code",
      "execution_count": null,
      "id": "de9ad925",
      "metadata": {
        "ExecuteTime": {
          "end_time": "2023-07-15T00:50:05.812116Z",
          "start_time": "2023-07-15T00:50:05.786566Z"
        },
        "id": "de9ad925"
      },
      "outputs": [],
      "source": [
        "# Normaliza os dados antes da modelagem\n",
        "std_scaler = StandardScaler()\n",
        "X_train_std = std_scaler.fit_transform(X_train)\n",
        "X_test_std = std_scaler.transform(X_test)"
      ]
    },
    {
      "cell_type": "code",
      "source": [
        "pd.DataFrame(X_train_std).describe().T"
      ],
      "metadata": {
        "id": "csp2Xde8DUzk"
      },
      "id": "csp2Xde8DUzk",
      "execution_count": null,
      "outputs": []
    },
    {
      "cell_type": "markdown",
      "id": "17c997dd",
      "metadata": {
        "heading_collapsed": true,
        "id": "17c997dd"
      },
      "source": [
        "## Regressão Linear Simples"
      ]
    },
    {
      "cell_type": "code",
      "execution_count": null,
      "id": "6343df66",
      "metadata": {
        "ExecuteTime": {
          "end_time": "2023-07-15T00:51:51.590559Z",
          "start_time": "2023-07-15T00:51:51.569966Z"
        },
        "hidden": true,
        "id": "6343df66"
      },
      "outputs": [],
      "source": [
        "# bmi vs. y\n",
        "X_train_simples = X_train_std[:,2].reshape(-1, 1)\n",
        "X_test_simples = X_test_std[:,2].reshape(-1, 1)"
      ]
    },
    {
      "cell_type": "code",
      "execution_count": null,
      "id": "a2061dfa",
      "metadata": {
        "ExecuteTime": {
          "end_time": "2023-07-15T00:52:10.961954Z",
          "start_time": "2023-07-15T00:52:10.588270Z"
        },
        "hidden": true,
        "id": "a2061dfa"
      },
      "outputs": [],
      "source": [
        "plt.figure(figsize=(8,5))\n",
        "plt.scatter(X_train_simples, y_train, s=10, color='green')\n",
        "plt.xlabel(\"bmi\")\n",
        "plt.ylabel(\"target\")\n",
        "plt.show()"
      ]
    },
    {
      "cell_type": "code",
      "execution_count": null,
      "id": "6a0acdaa",
      "metadata": {
        "ExecuteTime": {
          "end_time": "2023-07-15T00:53:19.606799Z",
          "start_time": "2023-07-15T00:53:19.577556Z"
        },
        "hidden": true,
        "id": "6a0acdaa"
      },
      "outputs": [],
      "source": [
        "# Ajusta um modelo de regressão linear simples aos dados\n",
        "reglin_simples = LinearRegression(fit_intercept=True)\n",
        "reglin_simples.fit(X_train_simples, y_train)"
      ]
    },
    {
      "cell_type": "code",
      "execution_count": null,
      "id": "42fd76c0",
      "metadata": {
        "ExecuteTime": {
          "end_time": "2023-07-15T00:53:28.486417Z",
          "start_time": "2023-07-15T00:53:28.465521Z"
        },
        "hidden": true,
        "id": "42fd76c0"
      },
      "outputs": [],
      "source": [
        "# Coeficiente\n",
        "print(reglin_simples.coef_)"
      ]
    },
    {
      "cell_type": "code",
      "execution_count": null,
      "id": "ffa77a4d",
      "metadata": {
        "ExecuteTime": {
          "end_time": "2023-07-15T00:53:28.518525Z",
          "start_time": "2023-07-15T00:53:28.493985Z"
        },
        "hidden": true,
        "id": "ffa77a4d"
      },
      "outputs": [],
      "source": [
        "# Intercepto\n",
        "print(reglin_simples.intercept_)"
      ]
    },
    {
      "cell_type": "code",
      "execution_count": null,
      "id": "2bb07a15",
      "metadata": {
        "ExecuteTime": {
          "end_time": "2023-07-15T00:53:40.585570Z",
          "start_time": "2023-07-15T00:53:40.574984Z"
        },
        "hidden": true,
        "scrolled": true,
        "id": "2bb07a15"
      },
      "outputs": [],
      "source": [
        "# Equação final\n",
        "str_eq = \"y = %.3fx + %.3f\" % (reglin_simples.coef_[0], reglin_simples.intercept_)\n",
        "print(str_eq)"
      ]
    },
    {
      "cell_type": "code",
      "execution_count": null,
      "id": "7392651a",
      "metadata": {
        "ExecuteTime": {
          "end_time": "2023-07-15T00:53:57.461559Z",
          "start_time": "2023-07-15T00:53:57.446147Z"
        },
        "hidden": true,
        "id": "7392651a"
      },
      "outputs": [],
      "source": [
        "# Predição\n",
        "y_pred_simples = reglin_simples.predict(X_test_simples)"
      ]
    },
    {
      "cell_type": "code",
      "execution_count": null,
      "id": "5c3af1b4",
      "metadata": {
        "ExecuteTime": {
          "end_time": "2023-07-15T00:54:18.598301Z",
          "start_time": "2023-07-15T00:54:18.094440Z"
        },
        "hidden": true,
        "scrolled": true,
        "id": "5c3af1b4"
      },
      "outputs": [],
      "source": [
        "plt.figure(figsize=(8,5))\n",
        "plt.scatter(X_test_simples, y_test, color='green', s=10)\n",
        "plt.plot(X_test_simples, y_pred_simples, color='red', linewidth=1, linestyle='dotted')\n",
        "plt.text(1.8, 310, str_eq, color='red', fontsize=9)\n",
        "plt.xlabel(\"bmi\")\n",
        "plt.ylabel(\"target\")\n",
        "plt.show()"
      ]
    },
    {
      "cell_type": "code",
      "execution_count": null,
      "id": "66006f65",
      "metadata": {
        "ExecuteTime": {
          "end_time": "2023-07-15T00:57:38.945629Z",
          "start_time": "2023-07-15T00:57:38.918020Z"
        },
        "hidden": true,
        "scrolled": true,
        "id": "66006f65"
      },
      "outputs": [],
      "source": [
        "# Avaliação de desempenho\n",
        "print(\"R2   = %.3f\" % r2_score(y_test, y_pred_simples))\n",
        "print(\"MAE  = %.3f\" % mean_absolute_error(y_test, y_pred_simples))\n",
        "print(\"MSE  = %.3f\" % mean_squared_error(y_test, y_pred_simples))\n",
        "print(\"RMSE = %.3f\" % mean_squared_error(y_test, y_pred_simples, squared=False))"
      ]
    },
    {
      "cell_type": "markdown",
      "id": "11f3c15b",
      "metadata": {
        "id": "11f3c15b"
      },
      "source": [
        "## Regressão Linear Múltipla"
      ]
    },
    {
      "cell_type": "code",
      "execution_count": null,
      "id": "420082c0",
      "metadata": {
        "ExecuteTime": {
          "end_time": "2023-07-15T01:04:57.177801Z",
          "start_time": "2023-07-15T01:04:57.124605Z"
        },
        "id": "420082c0"
      },
      "outputs": [],
      "source": [
        "X_train"
      ]
    },
    {
      "cell_type": "code",
      "execution_count": null,
      "id": "ed099c24",
      "metadata": {
        "ExecuteTime": {
          "end_time": "2023-07-10T19:04:04.079616Z",
          "start_time": "2023-07-10T19:04:04.056861Z"
        },
        "id": "ed099c24"
      },
      "outputs": [],
      "source": [
        "#df_train = pd.concat([X_train, pd.DataFrame(y_train)], axis=1)\n",
        "#df_test = pd.concat([X_test, pd.DataFrame(y_test)], axis=1)\n",
        "#X_train = df_train[['s1', 's5', 's2', 'bmi']]\n",
        "#X_test = df_test[['s1', 's5', 's2', 'bmi']]"
      ]
    },
    {
      "cell_type": "code",
      "execution_count": null,
      "id": "23bd607e",
      "metadata": {
        "ExecuteTime": {
          "end_time": "2023-07-15T01:22:27.987310Z",
          "start_time": "2023-07-15T01:22:27.955204Z"
        },
        "id": "23bd607e"
      },
      "outputs": [],
      "source": [
        "# Ajusta um modelo de regressão linear múltipla aos dados\n",
        "reglin = LinearRegression(fit_intercept=True)\n",
        "reglin.fit(X_train, y_train)"
      ]
    },
    {
      "cell_type": "code",
      "execution_count": null,
      "id": "85bdb4d7",
      "metadata": {
        "ExecuteTime": {
          "end_time": "2023-07-15T01:22:28.002854Z",
          "start_time": "2023-07-15T01:22:27.992325Z"
        },
        "id": "85bdb4d7"
      },
      "outputs": [],
      "source": [
        "# Coeficientes\n",
        "print(reglin.coef_)"
      ]
    },
    {
      "cell_type": "code",
      "execution_count": null,
      "id": "22cc951c",
      "metadata": {
        "ExecuteTime": {
          "end_time": "2023-07-15T01:22:28.032750Z",
          "start_time": "2023-07-15T01:22:28.010400Z"
        },
        "id": "22cc951c"
      },
      "outputs": [],
      "source": [
        "# Intercepto\n",
        "print(reglin.intercept_)"
      ]
    },
    {
      "cell_type": "code",
      "execution_count": null,
      "id": "82a2e297",
      "metadata": {
        "ExecuteTime": {
          "end_time": "2023-07-15T01:22:28.064620Z",
          "start_time": "2023-07-15T01:22:28.043491Z"
        },
        "id": "82a2e297"
      },
      "outputs": [],
      "source": [
        "# Predição\n",
        "y_pred = reglin.predict(X_test)"
      ]
    },
    {
      "cell_type": "code",
      "execution_count": null,
      "id": "44770715",
      "metadata": {
        "ExecuteTime": {
          "end_time": "2023-07-15T01:22:28.126699Z",
          "start_time": "2023-07-15T01:22:28.081461Z"
        },
        "scrolled": true,
        "id": "44770715"
      },
      "outputs": [],
      "source": [
        "# Avaliação de desempenho\n",
        "print(\"R2   = %.3f\" % r2_score(y_test, y_pred))\n",
        "print(\"MAE  = %.3f\" % mean_absolute_error(y_test, y_pred))\n",
        "print(\"MSE  = %.3f\" % mean_squared_error(y_test, y_pred))\n",
        "print(\"RMSE = %.3f\" % mean_squared_error(y_test, y_pred, squared=False))"
      ]
    },
    {
      "cell_type": "code",
      "execution_count": null,
      "id": "92f5bc94",
      "metadata": {
        "ExecuteTime": {
          "end_time": "2023-07-15T01:22:28.625610Z",
          "start_time": "2023-07-15T01:22:28.135873Z"
        },
        "id": "92f5bc94"
      },
      "outputs": [],
      "source": [
        "# Importância dos atributos\n",
        "y_pos = np.arange(len(X_train.columns))\n",
        "plt.barh(y_pos, reglin.coef_, color='springgreen')\n",
        "plt.axvline(x=0, color='black')\n",
        "plt.yticks(y_pos, X_train.columns)\n",
        "plt.show()"
      ]
    },
    {
      "cell_type": "markdown",
      "id": "707c1c72",
      "metadata": {
        "id": "707c1c72"
      },
      "source": [
        "## Regressor Dummy"
      ]
    },
    {
      "cell_type": "markdown",
      "id": "6cdc8a2b",
      "metadata": {
        "id": "6cdc8a2b"
      },
      "source": [
        "Para fins experimentais e de comparação, iremos comparar a regressão linear múltipla e o regressor dummy."
      ]
    },
    {
      "cell_type": "code",
      "execution_count": null,
      "id": "89e76abd",
      "metadata": {
        "ExecuteTime": {
          "end_time": "2023-07-15T01:12:38.962046Z",
          "start_time": "2023-07-15T01:12:38.941782Z"
        },
        "id": "89e76abd"
      },
      "outputs": [],
      "source": [
        "dummy = DummyRegressor()\n",
        "dummy.fit(X_train, y_train)"
      ]
    },
    {
      "cell_type": "code",
      "execution_count": null,
      "id": "928e4ab5",
      "metadata": {
        "ExecuteTime": {
          "end_time": "2023-07-15T01:12:38.992338Z",
          "start_time": "2023-07-15T01:12:38.970151Z"
        },
        "id": "928e4ab5"
      },
      "outputs": [],
      "source": [
        "y_pred_dummy = dummy.predict(X_test)"
      ]
    },
    {
      "cell_type": "code",
      "execution_count": null,
      "id": "63011c1e",
      "metadata": {
        "ExecuteTime": {
          "end_time": "2023-07-15T01:12:39.023553Z",
          "start_time": "2023-07-15T01:12:38.997387Z"
        },
        "id": "63011c1e"
      },
      "outputs": [],
      "source": [
        "# Avaliação de desempenho\n",
        "print(\"R2   = %.3f\" % r2_score(y_test, y_pred_dummy))\n",
        "print(\"MAE  = %.3f\" % mean_absolute_error(y_test, y_pred_dummy))\n",
        "print(\"MSE  = %.3f\" % mean_squared_error(y_test, y_pred_dummy))\n",
        "print(\"RMSE = %.3f\" % mean_squared_error(y_test, y_pred_dummy, squared=False))"
      ]
    }
  ],
  "metadata": {
    "kernelspec": {
      "display_name": "Python 3 (ipykernel)",
      "language": "python",
      "name": "python3"
    },
    "language_info": {
      "codemirror_mode": {
        "name": "ipython",
        "version": 3
      },
      "file_extension": ".py",
      "mimetype": "text/x-python",
      "name": "python",
      "nbconvert_exporter": "python",
      "pygments_lexer": "ipython3",
      "version": "3.9.4"
    },
    "varInspector": {
      "cols": {
        "lenName": 16,
        "lenType": 16,
        "lenVar": 40
      },
      "kernels_config": {
        "python": {
          "delete_cmd_postfix": "",
          "delete_cmd_prefix": "del ",
          "library": "var_list.py",
          "varRefreshCmd": "print(var_dic_list())"
        },
        "r": {
          "delete_cmd_postfix": ") ",
          "delete_cmd_prefix": "rm(",
          "library": "var_list.r",
          "varRefreshCmd": "cat(var_dic_list()) "
        }
      },
      "types_to_exclude": [
        "module",
        "function",
        "builtin_function_or_method",
        "instance",
        "_Feature"
      ],
      "window_display": false
    },
    "colab": {
      "provenance": []
    }
  },
  "nbformat": 4,
  "nbformat_minor": 5
}