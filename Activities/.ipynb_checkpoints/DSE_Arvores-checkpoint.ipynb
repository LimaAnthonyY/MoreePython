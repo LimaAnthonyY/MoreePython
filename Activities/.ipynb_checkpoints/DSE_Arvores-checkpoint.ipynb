{
  "cells": [
    {
      "cell_type": "markdown",
      "metadata": {
        "id": "Kotv1dGMUzL8"
      },
      "source": [
        "# **Árvores de Decisão**\n",
        "\n",
        "*Prof. Dr. Orlando Junior*"
      ]
    },
    {
      "cell_type": "markdown",
      "metadata": {
        "id": "aWrGYnqNReWS"
      },
      "source": [
        "Árvores de decisão são uma ferramenta no suporte à tomada de decisão que usam modelos baseados em árvores que podem ser usadas para representar e tomar decisões de maneira visual e explícita.\n",
        "\n",
        "Os modelos de árvores representam o conhecimento no formato de árvores de decisão, que podem ser representadas por meio de grafos acíclicos direcionados. Nesses grafos, os nós representam as decisões do modelo ou o resultado esperado, enquanto que as arestas representam as alternativas de decisão.\n",
        "\n",
        "O aprendizado de árvores de decisão é usado na estatística e na mineração de dados para a modelagem de problemas preditivos. As árvores de decisão podem ser usadas em problemas de classificação ou regressão e os seus algoritmos de aprendizagem de máquina estão entre os mais populares em razão da simplicidade e interpretabilidade das árvores."
      ]
    },
    {
      "cell_type": "markdown",
      "metadata": {
        "id": "r3zEadwSBF9L"
      },
      "source": [
        "## Classificação de Flores (Iris)"
      ]
    },
    {
      "cell_type": "markdown",
      "metadata": {
        "id": "88v_lgldBMB7"
      },
      "source": [
        "![image](https://miro.medium.com/max/1000/1*Hh53mOF4Xy4eORjLilKOwA.png)"
      ]
    },
    {
      "cell_type": "markdown",
      "metadata": {
        "id": "SENqP4SPBF9O"
      },
      "source": [
        "## Bibliotecas"
      ]
    },
    {
      "cell_type": "code",
      "source": [
        "# Vamos atualizar o sklearn no Colab\n",
        "!pip install -U scikit-learn"
      ],
      "metadata": {
        "id": "hFPiZXMB8s6b"
      },
      "execution_count": null,
      "outputs": []
    },
    {
      "cell_type": "code",
      "execution_count": null,
      "metadata": {
        "ExecuteTime": {
          "end_time": "2023-05-06T13:38:53.120275Z",
          "start_time": "2023-05-06T13:38:38.438608Z"
        },
        "id": "Tx1qX5wDBF9P"
      },
      "outputs": [],
      "source": [
        "import numpy as np\n",
        "import pandas as pd\n",
        "from sklearn.datasets import load_iris\n",
        "from sklearn.tree import DecisionTreeClassifier, export_text, plot_tree\n",
        "from sklearn.model_selection import train_test_split\n",
        "from sklearn.metrics import accuracy_score, confusion_matrix\n",
        "import seaborn as sn\n",
        "import matplotlib.pyplot as plt"
      ]
    },
    {
      "cell_type": "markdown",
      "metadata": {
        "id": "vJjrUpR3BF9Q"
      },
      "source": [
        "## Dados"
      ]
    },
    {
      "cell_type": "code",
      "execution_count": null,
      "metadata": {
        "ExecuteTime": {
          "end_time": "2023-05-06T13:39:10.504516Z",
          "start_time": "2023-05-06T13:39:10.445718Z"
        },
        "id": "MOXO-U5rBF9Q"
      },
      "outputs": [],
      "source": [
        "# Carregamento dos dados\n",
        "iris = load_iris()"
      ]
    },
    {
      "cell_type": "code",
      "execution_count": null,
      "metadata": {
        "ExecuteTime": {
          "end_time": "2023-05-06T13:39:16.940429Z",
          "start_time": "2023-05-06T13:39:16.913044Z"
        },
        "id": "KAPWRWL-BF9R",
        "scrolled": false
      },
      "outputs": [],
      "source": [
        "# Visualização de dados\n",
        "print(iris.data)"
      ]
    },
    {
      "cell_type": "code",
      "execution_count": null,
      "metadata": {
        "ExecuteTime": {
          "end_time": "2023-05-06T13:39:51.027432Z",
          "start_time": "2023-05-06T13:39:51.012875Z"
        },
        "id": "4DUxjMGWBF9R"
      },
      "outputs": [],
      "source": [
        "# Formato dos dados (150 exemplos x 4 atributos de entrada)\n",
        "print(iris.data.shape)"
      ]
    },
    {
      "cell_type": "code",
      "execution_count": null,
      "metadata": {
        "ExecuteTime": {
          "end_time": "2023-05-06T13:40:16.958037Z",
          "start_time": "2023-05-06T13:40:16.935064Z"
        },
        "id": "FtD99Y2HBF9S"
      },
      "outputs": [],
      "source": [
        "# Visualização dos atributos de saída\n",
        "# Classes = {0, 1, 2}\n",
        "print(iris.target)"
      ]
    },
    {
      "cell_type": "markdown",
      "metadata": {
        "id": "RPVMLDweBF9S"
      },
      "source": [
        "## Separação Entrada/Saída"
      ]
    },
    {
      "cell_type": "markdown",
      "source": [
        "**Entrada**"
      ],
      "metadata": {
        "id": "KNis_xMI62Eb"
      }
    },
    {
      "cell_type": "code",
      "execution_count": null,
      "metadata": {
        "ExecuteTime": {
          "end_time": "2023-05-06T13:41:02.523309Z",
          "start_time": "2023-05-06T13:41:02.503759Z"
        },
        "id": "qSrx31SHBF9S"
      },
      "outputs": [],
      "source": [
        "X = pd.DataFrame(data=iris.data, columns=iris.feature_names)"
      ]
    },
    {
      "cell_type": "code",
      "execution_count": null,
      "metadata": {
        "ExecuteTime": {
          "end_time": "2023-05-06T13:41:04.034158Z",
          "start_time": "2023-05-06T13:41:03.966852Z"
        },
        "id": "dj1iiYOjBF9T"
      },
      "outputs": [],
      "source": [
        "X.head()"
      ]
    },
    {
      "cell_type": "code",
      "execution_count": null,
      "metadata": {
        "ExecuteTime": {
          "end_time": "2023-05-06T13:41:19.933423Z",
          "start_time": "2023-05-06T13:41:19.878517Z"
        },
        "id": "IG_nA1E3BF9T"
      },
      "outputs": [],
      "source": [
        "X.describe()"
      ]
    },
    {
      "cell_type": "markdown",
      "source": [
        "**Saída**"
      ],
      "metadata": {
        "id": "JC-35NJI64HL"
      }
    },
    {
      "cell_type": "code",
      "execution_count": null,
      "metadata": {
        "ExecuteTime": {
          "end_time": "2023-05-06T13:42:14.089121Z",
          "start_time": "2023-05-06T13:42:14.077309Z"
        },
        "id": "xClh9QhCBF9T"
      },
      "outputs": [],
      "source": [
        "y = pd.DataFrame(data=iris.target, columns=[\"classe\"])"
      ]
    },
    {
      "cell_type": "code",
      "execution_count": null,
      "metadata": {
        "ExecuteTime": {
          "end_time": "2023-05-06T13:42:15.050088Z",
          "start_time": "2023-05-06T13:42:15.026137Z"
        },
        "id": "cpg7sm8NBF9U"
      },
      "outputs": [],
      "source": [
        "y.head(51)"
      ]
    },
    {
      "cell_type": "markdown",
      "metadata": {
        "id": "RWuOUwFsBF9U"
      },
      "source": [
        "## Separação Treinamento/Teste"
      ]
    },
    {
      "cell_type": "code",
      "execution_count": null,
      "metadata": {
        "ExecuteTime": {
          "end_time": "2023-05-06T13:44:21.415791Z",
          "start_time": "2023-05-06T13:44:21.392948Z"
        },
        "id": "J7fSzdTdBF9U"
      },
      "outputs": [],
      "source": [
        "# houldout (70% treinamento / 30% teste)\n",
        "# houldout (1/3 teste e 2/3 treinamento)\n",
        "# 90% treinamento e 10% teste\n",
        "# 60% treinamento e 40% teste\n",
        "X_train, X_test, y_train, y_test = train_test_split(X, y, test_size=0.25, shuffle=True, random_state=42)"
      ]
    },
    {
      "cell_type": "code",
      "execution_count": null,
      "metadata": {
        "ExecuteTime": {
          "end_time": "2023-05-06T13:44:24.185612Z",
          "start_time": "2023-05-06T13:44:24.177542Z"
        },
        "id": "ra4oLlXjBF9V"
      },
      "outputs": [],
      "source": [
        "print(\"Treinamento:\", len(X_train))\n",
        "print(\"Teste:\", len(X_test))"
      ]
    },
    {
      "cell_type": "markdown",
      "metadata": {
        "id": "0hZQif5kBF9V"
      },
      "source": [
        "## Treinamento / Aprendizagem"
      ]
    },
    {
      "cell_type": "code",
      "execution_count": null,
      "metadata": {
        "ExecuteTime": {
          "end_time": "2023-05-06T14:31:58.900350Z",
          "start_time": "2023-05-06T14:31:58.887167Z"
        },
        "id": "_PD24cqrBF9V"
      },
      "outputs": [],
      "source": [
        "dt = DecisionTreeClassifier(criterion='entropy', random_state=42)"
      ]
    },
    {
      "cell_type": "code",
      "execution_count": null,
      "metadata": {
        "ExecuteTime": {
          "end_time": "2023-05-06T14:32:00.434099Z",
          "start_time": "2023-05-06T14:32:00.403695Z"
        },
        "id": "5yOCcnj2BF9W"
      },
      "outputs": [],
      "source": [
        "# Ajusta o modelo aos dados de treinamento\n",
        "dt.fit(X_train, y_train)"
      ]
    },
    {
      "cell_type": "markdown",
      "metadata": {
        "id": "lIdrUJqmBF9W"
      },
      "source": [
        "## Predição"
      ]
    },
    {
      "cell_type": "code",
      "execution_count": null,
      "metadata": {
        "ExecuteTime": {
          "end_time": "2023-05-06T14:32:13.269617Z",
          "start_time": "2023-05-06T14:32:13.248249Z"
        },
        "id": "E8PtVton6afD"
      },
      "outputs": [],
      "source": [
        "X_test.iloc[0:1, :]"
      ]
    },
    {
      "cell_type": "code",
      "execution_count": null,
      "metadata": {
        "ExecuteTime": {
          "end_time": "2023-05-06T14:32:13.292788Z",
          "start_time": "2023-05-06T14:32:13.275103Z"
        },
        "id": "2cTlQwU9BF9W"
      },
      "outputs": [],
      "source": [
        "y_pred = dt.predict(X_test)"
      ]
    },
    {
      "cell_type": "code",
      "execution_count": null,
      "metadata": {
        "ExecuteTime": {
          "end_time": "2023-05-06T14:32:13.319455Z",
          "start_time": "2023-05-06T14:32:13.297382Z"
        },
        "id": "X_qmV81xBF9W"
      },
      "outputs": [],
      "source": [
        "print(y_pred)"
      ]
    },
    {
      "cell_type": "code",
      "execution_count": null,
      "metadata": {
        "ExecuteTime": {
          "end_time": "2023-05-06T14:32:13.349936Z",
          "start_time": "2023-05-06T14:32:13.331173Z"
        },
        "id": "XhnLKVKzBF9X"
      },
      "outputs": [],
      "source": [
        "print(y_pred.shape)"
      ]
    },
    {
      "cell_type": "markdown",
      "metadata": {
        "id": "Qd_FWZR8BF9X"
      },
      "source": [
        "## Avaliação"
      ]
    },
    {
      "cell_type": "code",
      "execution_count": null,
      "metadata": {
        "ExecuteTime": {
          "end_time": "2023-05-06T14:32:22.039044Z",
          "start_time": "2023-05-06T14:32:22.025201Z"
        },
        "id": "tT59zVujBF9Y"
      },
      "outputs": [],
      "source": [
        "cm = confusion_matrix(y_true=y_test, y_pred=y_pred, labels=[0, 1, 2])"
      ]
    },
    {
      "cell_type": "code",
      "execution_count": null,
      "metadata": {
        "ExecuteTime": {
          "end_time": "2023-05-06T14:32:22.061385Z",
          "start_time": "2023-05-06T14:32:22.044935Z"
        },
        "id": "JEJpho7ABF9Y"
      },
      "outputs": [],
      "source": [
        "cm"
      ]
    },
    {
      "cell_type": "code",
      "execution_count": null,
      "metadata": {
        "ExecuteTime": {
          "end_time": "2023-05-06T14:32:41.546873Z",
          "start_time": "2023-05-06T14:32:41.524477Z"
        },
        "id": "589f63PUBF9Z"
      },
      "outputs": [],
      "source": [
        "# 0 - 1\n",
        "# Melhor = mais próximo de 1\n",
        "print(\"Acurácia do modelo: %.5f\" % accuracy_score(y_test, y_pred))"
      ]
    },
    {
      "cell_type": "markdown",
      "metadata": {
        "id": "j7CoSXLe6afJ"
      },
      "source": [
        "## Plotagem da Árvore"
      ]
    },
    {
      "cell_type": "code",
      "execution_count": null,
      "metadata": {
        "ExecuteTime": {
          "end_time": "2023-05-06T14:32:54.748088Z",
          "start_time": "2023-05-06T14:32:54.736132Z"
        },
        "id": "IKkB9LlxBRiY",
        "scrolled": true
      },
      "outputs": [],
      "source": [
        "# class 0: setosa\n",
        "# class 1: versicolor\n",
        "# class 2: virginica\n",
        "\n",
        "# feature_1: sepal length (cm)\n",
        "# feature_2: sepal width (cm)\n",
        "# feature_3: petal length (cm)\n",
        "# feature_4: petal width (cm)\n",
        "print(export_text(dt, feature_names=iris.feature_names, class_names=iris.target_names))"
      ]
    },
    {
      "cell_type": "code",
      "execution_count": null,
      "metadata": {
        "ExecuteTime": {
          "end_time": "2023-05-06T14:33:11.075313Z",
          "start_time": "2023-05-06T14:33:10.701539Z"
        },
        "id": "oyRVyQqhB6ux"
      },
      "outputs": [],
      "source": [
        "# Plotagem tradicional\n",
        "plt.figure(figsize=(12, 10))\n",
        "plot_tree(dt,\n",
        "          feature_names=iris.feature_names,\n",
        "          class_names=iris.target_names,\n",
        "          fontsize=6,\n",
        "          filled=True)\n",
        "plt.show()"
      ]
    },
    {
      "cell_type": "markdown",
      "metadata": {
        "id": "p3UyaCzkBF9Z"
      },
      "source": [
        "## Atributos Mais Relevantes do Modelo"
      ]
    },
    {
      "cell_type": "code",
      "execution_count": null,
      "metadata": {
        "ExecuteTime": {
          "end_time": "2023-05-06T14:33:56.652550Z",
          "start_time": "2023-05-06T14:33:56.627236Z"
        },
        "id": "74Dxz3f96afX"
      },
      "outputs": [],
      "source": [
        "# Importância dos atributos\n",
        "df = pd.DataFrame(list(zip(dt.feature_importances_, X_train.columns)))\n",
        "df.sort_values(by=0, ascending=False, inplace=True)"
      ]
    },
    {
      "cell_type": "code",
      "execution_count": null,
      "metadata": {
        "ExecuteTime": {
          "end_time": "2023-05-06T14:35:38.509961Z",
          "start_time": "2023-05-06T14:35:38.252183Z"
        },
        "id": "dAumMib8BF9a"
      },
      "outputs": [],
      "source": [
        "# Visualização gráfica das importâncias\n",
        "y_pos = np.arange(len(X_train.columns))\n",
        "plt.figure(figsize=(12,3))\n",
        "plt.bar(y_pos, df.loc[:,0], color=['g', 'r', 'b', 'y'])\n",
        "plt.xticks(y_pos, df.loc[:,1], rotation=45)\n",
        "plt.yticks([n/100 for n in range(0, 101, 10)]) # Lista de 0.0 a 1.0\n",
        "plt.show()"
      ]
    }
  ],
  "metadata": {
    "colab": {
      "provenance": [],
      "collapsed_sections": [
        "r3zEadwSBF9L",
        "SENqP4SPBF9O",
        "vJjrUpR3BF9Q",
        "RPVMLDweBF9S",
        "RWuOUwFsBF9U",
        "0hZQif5kBF9V",
        "lIdrUJqmBF9W",
        "Qd_FWZR8BF9X",
        "p3UyaCzkBF9Z"
      ]
    },
    "kernelspec": {
      "display_name": "Python 3 (ipykernel)",
      "language": "python",
      "name": "python3"
    },
    "language_info": {
      "codemirror_mode": {
        "name": "ipython",
        "version": 3
      },
      "file_extension": ".py",
      "mimetype": "text/x-python",
      "name": "python",
      "nbconvert_exporter": "python",
      "pygments_lexer": "ipython3",
      "version": "3.9.4"
    },
    "varInspector": {
      "cols": {
        "lenName": 16,
        "lenType": 16,
        "lenVar": 40
      },
      "kernels_config": {
        "python": {
          "delete_cmd_postfix": "",
          "delete_cmd_prefix": "del ",
          "library": "var_list.py",
          "varRefreshCmd": "print(var_dic_list())"
        },
        "r": {
          "delete_cmd_postfix": ") ",
          "delete_cmd_prefix": "rm(",
          "library": "var_list.r",
          "varRefreshCmd": "cat(var_dic_list()) "
        }
      },
      "types_to_exclude": [
        "module",
        "function",
        "builtin_function_or_method",
        "instance",
        "_Feature"
      ],
      "window_display": false
    }
  },
  "nbformat": 4,
  "nbformat_minor": 0
}