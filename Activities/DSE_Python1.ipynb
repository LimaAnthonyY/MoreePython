{
 "cells": [
  {
   "cell_type": "markdown",
   "metadata": {
    "id": "3a4wTWOueGDM"
   },
   "source": [
    "# **Data Science Experience**\n",
    "*Prof. Orlando Junior*"
   ]
  },
  {
   "cell_type": "markdown",
   "metadata": {
    "id": "SYCVFrZneUZ7"
   },
   "source": [
    "---\n"
   ]
  },
  {
   "cell_type": "markdown",
   "metadata": {
    "id": "Cm_Cvbw5ep2-"
   },
   "source": [
    "**Conteúdo**\n",
    "1. O que é Python?\n",
    "2. Variáveis\n",
    "3. Comandos de entrada e saída\n",
    "4. Operações\n",
    "5. Métodos, procedimentos e funções\n",
    "6. Estruturas de seleção\n",
    "7. Estruturas de repetição\n",
    "8. Exercícios"
   ]
  },
  {
   "cell_type": "markdown",
   "metadata": {
    "id": "RSyaVLsKeqJc"
   },
   "source": [
    "---"
   ]
  },
  {
   "cell_type": "markdown",
   "metadata": {
    "id": "sM5DXML0uR6V"
   },
   "source": [
    "## O que é Python?"
   ]
  },
  {
   "cell_type": "markdown",
   "metadata": {
    "id": "G1IiUQgKoZ_v"
   },
   "source": [
    "> Python é uma linguagem de programação poderosa e fácil de aprender. Ela possui estruturas de dados eficientes em alto nível e uma abordagem efetiva simples para a programação orientada a objetos.A sintaxe elegante e a tipagem dinâmica do Python, junto com sua natureza interpretada, tornam-no uma linguagem ideal para scripts e desenvolvimento rápido de aplicativos em muitas áreas na maioria das plataformas."
   ]
  },
  {
   "cell_type": "markdown",
   "metadata": {
    "id": "A6xSuJh3oa4u"
   },
   "source": [
    "**Características**\n",
    "* Simples e minimalista\n",
    "* Fácil de aprender\n",
    "* Grátis e de código aberto\n",
    "* Linguagem de alto nível\n",
    "* Portável\n",
    "* Interpretada\n",
    "* Orientada a objetos\n",
    "* Extensível\n",
    "* Embarcável"
   ]
  },
  {
   "cell_type": "markdown",
   "metadata": {
    "id": "bFK_lYP9pbOU"
   },
   "source": [
    "*I came to Python not because I thought it was a better/acceptable/pragmatic Lisp, but because it was better pseudocode.*\n",
    "\n",
    "-- Peter Norvig, diretor de pesquisa da Google"
   ]
  },
  {
   "cell_type": "markdown",
   "metadata": {
    "id": "2VXPdmQdtSPF"
   },
   "source": [
    "## Variáveis"
   ]
  },
  {
   "cell_type": "code",
   "execution_count": null,
   "metadata": {
    "id": "_7cgtRI_tXto"
   },
   "outputs": [],
   "source": [
    "# Variável do tipo inteiro\n",
    "idade = 50"
   ]
  },
  {
   "cell_type": "code",
   "execution_count": null,
   "metadata": {
    "id": "Xjk1Bqm4ts6I"
   },
   "outputs": [],
   "source": [
    "# Variável do tipo real\n",
    "peso = 80.5"
   ]
  },
  {
   "cell_type": "code",
   "execution_count": null,
   "metadata": {
    "id": "GebSWsZJtz4w"
   },
   "outputs": [],
   "source": [
    "# Variável do tipo caractere\n",
    "sexo = 'F'"
   ]
  },
  {
   "cell_type": "code",
   "execution_count": null,
   "metadata": {
    "id": "1CGW2lAft7dP"
   },
   "outputs": [],
   "source": [
    "# Variável do tipo cadeia de caracteres (string)\n",
    "nome = \"Orlando Junior\""
   ]
  },
  {
   "cell_type": "code",
   "execution_count": null,
   "metadata": {
    "id": "HTH95So8uTDF"
   },
   "outputs": [],
   "source": [
    "# Variável do tipo lógico\n",
    "tem_carro = False\n",
    "tem_casa = True"
   ]
  },
  {
   "cell_type": "markdown",
   "metadata": {
    "id": "eR4-Pp4JumJP"
   },
   "source": [
    "**Outras formas de atribuição**"
   ]
  },
  {
   "cell_type": "code",
   "execution_count": null,
   "metadata": {
    "id": "VmNynxDTupQk"
   },
   "outputs": [],
   "source": [
    "x = 1 + 2"
   ]
  },
  {
   "cell_type": "code",
   "execution_count": null,
   "metadata": {
    "id": "Q43RtXS8usYp"
   },
   "outputs": [],
   "source": [
    "a = b = 1"
   ]
  },
  {
   "cell_type": "code",
   "execution_count": null,
   "metadata": {
    "id": "1jTIgiSDuxhk"
   },
   "outputs": [],
   "source": [
    "u, v = 100, 200"
   ]
  },
  {
   "cell_type": "code",
   "execution_count": null,
   "metadata": {
    "id": "ekszyYN7YEvM"
   },
   "outputs": [],
   "source": [
    "print(u)"
   ]
  },
  {
   "cell_type": "code",
   "execution_count": null,
   "metadata": {
    "id": "eaVq_72jYGBz"
   },
   "outputs": [],
   "source": [
    "print(v)"
   ]
  },
  {
   "cell_type": "markdown",
   "metadata": {
    "id": "Syr5hFsivDD5"
   },
   "source": [
    "## Comandos de entrada e saída"
   ]
  },
  {
   "cell_type": "code",
   "execution_count": null,
   "metadata": {
    "id": "mL0S2JJlvKt6"
   },
   "outputs": [],
   "source": [
    "nome = input(\"Digite seu nome: \")"
   ]
  },
  {
   "cell_type": "code",
   "execution_count": null,
   "metadata": {
    "id": "5cUV3glRvUxF"
   },
   "outputs": [],
   "source": [
    "print(nome)"
   ]
  },
  {
   "cell_type": "code",
   "execution_count": null,
   "metadata": {
    "id": "jiyZKHjjvZTM"
   },
   "outputs": [],
   "source": [
    "idade = int(input(\"Digite sua idade: \"))"
   ]
  },
  {
   "cell_type": "code",
   "execution_count": null,
   "metadata": {
    "id": "G9eFobMrvhh6"
   },
   "outputs": [],
   "source": [
    "print(idade + 10)"
   ]
  },
  {
   "cell_type": "markdown",
   "metadata": {
    "id": "_xtFuyVEv6XC"
   },
   "source": [
    "## Operações"
   ]
  },
  {
   "cell_type": "markdown",
   "metadata": {
    "id": "PJSExHGMtw0G"
   },
   "source": [
    "**Operadores aritméticos**"
   ]
  },
  {
   "cell_type": "code",
   "execution_count": null,
   "metadata": {
    "id": "Pkprh-drqQ9b"
   },
   "outputs": [],
   "source": [
    "# Soma\n",
    "a = 1 + 2\n",
    "print(a)"
   ]
  },
  {
   "cell_type": "code",
   "execution_count": null,
   "metadata": {
    "id": "lseDoi4qt6Bd"
   },
   "outputs": [],
   "source": [
    "# Subtração\n",
    "b = 2 - 1\n",
    "print(b)"
   ]
  },
  {
   "cell_type": "code",
   "execution_count": null,
   "metadata": {
    "id": "aa74PykBYyIV"
   },
   "outputs": [],
   "source": [
    "type(b)"
   ]
  },
  {
   "cell_type": "code",
   "execution_count": null,
   "metadata": {
    "id": "GQ2JiU7Mt-WL"
   },
   "outputs": [],
   "source": [
    "# Multiplicação\n",
    "c = 2 * 3.5\n",
    "print(c)"
   ]
  },
  {
   "cell_type": "code",
   "execution_count": null,
   "metadata": {
    "id": "rugBe-73Yzg8"
   },
   "outputs": [],
   "source": [
    "type(c)"
   ]
  },
  {
   "cell_type": "code",
   "execution_count": null,
   "metadata": {
    "id": "z3_olJwAt8lK"
   },
   "outputs": [],
   "source": [
    "# Divisão\n",
    "d = 4 / 2\n",
    "print(d)"
   ]
  },
  {
   "cell_type": "code",
   "execution_count": null,
   "metadata": {
    "id": "9TOmck0GuDOL"
   },
   "outputs": [],
   "source": [
    "# Resto da divisão de números inteiros\n",
    "e = 10 % 3\n",
    "print(e)"
   ]
  },
  {
   "cell_type": "code",
   "execution_count": null,
   "metadata": {
    "id": "P3ekb5jquOtT"
   },
   "outputs": [],
   "source": [
    "# Divisão de ponto flutuante\n",
    "# Devolve a parte inteira\n",
    "f = 10 // 3\n",
    "print(f)"
   ]
  },
  {
   "cell_type": "code",
   "execution_count": null,
   "metadata": {
    "id": "vmiWMjVqZKqc"
   },
   "outputs": [],
   "source": [
    "print(10/3)"
   ]
  },
  {
   "cell_type": "code",
   "execution_count": null,
   "metadata": {
    "id": "vi9d4GB9uq3E"
   },
   "outputs": [],
   "source": [
    "# Exponenciação\n",
    "g = 3 ** 2\n",
    "print(g)"
   ]
  },
  {
   "cell_type": "markdown",
   "metadata": {
    "id": "QSjPXn3mvhU2"
   },
   "source": [
    "**Operadores relacionais**"
   ]
  },
  {
   "cell_type": "code",
   "execution_count": null,
   "metadata": {
    "id": "14wp-KVXvq1U"
   },
   "outputs": [],
   "source": [
    "resposta = (1 == 1)\n",
    "print(resposta)"
   ]
  },
  {
   "cell_type": "code",
   "execution_count": null,
   "metadata": {
    "id": "5YpVTgePvrGb"
   },
   "outputs": [],
   "source": [
    "resposta = (1 == 2)\n",
    "print(resposta)"
   ]
  },
  {
   "cell_type": "code",
   "execution_count": null,
   "metadata": {
    "id": "kcTOycxtvrJd"
   },
   "outputs": [],
   "source": [
    "resposta = (1 != 2)\n",
    "print(resposta)"
   ]
  },
  {
   "cell_type": "code",
   "execution_count": null,
   "metadata": {
    "id": "amwWOC89wCfc"
   },
   "outputs": [],
   "source": [
    "resposta = (1 > 2)\n",
    "print(resposta)"
   ]
  },
  {
   "cell_type": "code",
   "execution_count": null,
   "metadata": {
    "id": "UnyBlBPBwEFD"
   },
   "outputs": [],
   "source": [
    "resposta = (1 < 2)\n",
    "print(resposta)"
   ]
  },
  {
   "cell_type": "code",
   "execution_count": null,
   "metadata": {
    "id": "b3-ijuhLwH4b"
   },
   "outputs": [],
   "source": [
    "resposta = (1 >= 2)\n",
    "print(resposta)"
   ]
  },
  {
   "cell_type": "code",
   "execution_count": null,
   "metadata": {
    "id": "UJHmZlrFwIWk"
   },
   "outputs": [],
   "source": [
    "resposta = (2 <= 2)\n",
    "print(resposta)"
   ]
  },
  {
   "cell_type": "markdown",
   "metadata": {
    "id": "t2K0hewXwbYl"
   },
   "source": [
    "**Operadores lógicos**"
   ]
  },
  {
   "cell_type": "code",
   "execution_count": null,
   "metadata": {
    "id": "LJRYR-ulyVnh"
   },
   "outputs": [],
   "source": [
    "print(\"NÃO (Verdadeiro): \", not True)\n",
    "print(\"NÃO (Falso)     : \", not False)"
   ]
  },
  {
   "cell_type": "code",
   "execution_count": null,
   "metadata": {
    "id": "7pCT-_rSwdac"
   },
   "outputs": [],
   "source": [
    "print(\"(Verdadeiro) E (Verdadeiro): \", True and True)\n",
    "print(\"(Verdadeiro) E (Falso)     : \", True and False)\n",
    "print(\"(Falso)      E (Verdadeiro): \", False and True)\n",
    "print(\"(Falso)      E (Falso)     : \", False and False)"
   ]
  },
  {
   "cell_type": "code",
   "execution_count": null,
   "metadata": {
    "id": "9m49BvX5x157"
   },
   "outputs": [],
   "source": [
    "print(\"(Verdadeiro) OU (Verdadeiro): \", True or True)\n",
    "print(\"(Verdadeiro) OU (Falso)     : \", True or False)\n",
    "print(\"(Falso)      OU (Verdadeiro): \", False or True)\n",
    "print(\"(Falso)      OU (Falso)     : \", False or False)"
   ]
  },
  {
   "cell_type": "markdown",
   "metadata": {
    "id": "If2nIfGvTxAl"
   },
   "source": [
    "## Métodos, procedimentos e funções"
   ]
  },
  {
   "cell_type": "markdown",
   "metadata": {
    "id": "DssdQ5zkXg9j"
   },
   "source": [
    "**Procedimentos**"
   ]
  },
  {
   "cell_type": "code",
   "execution_count": null,
   "metadata": {
    "id": "jzPtpcYDT3ls"
   },
   "outputs": [],
   "source": [
    "def cumprimenta():\n",
    "  print(\"Olá, tudo bem?\")"
   ]
  },
  {
   "cell_type": "code",
   "execution_count": null,
   "metadata": {
    "id": "-3exYjEgWvPC"
   },
   "outputs": [],
   "source": [
    "cumprimenta()\n",
    "cumprimenta()\n",
    "cumprimenta()\n",
    "cumprimenta()"
   ]
  },
  {
   "cell_type": "code",
   "execution_count": null,
   "metadata": {
    "id": "EPvIa7SlW7Ki"
   },
   "outputs": [],
   "source": [
    "def cumprimentaComNome(nome):\n",
    "  print(\"Olá, {0}! Tudo bem com você?\".format(nome))"
   ]
  },
  {
   "cell_type": "code",
   "execution_count": null,
   "metadata": {
    "id": "1MX3UPLRXSP0"
   },
   "outputs": [],
   "source": [
    "cumprimentaComNome(\"Orlando Junior\")"
   ]
  },
  {
   "cell_type": "markdown",
   "metadata": {
    "id": "NtOPN_-pXepH"
   },
   "source": [
    "**Funções**"
   ]
  },
  {
   "cell_type": "code",
   "execution_count": null,
   "metadata": {
    "id": "D9ABwLoIXgGU"
   },
   "outputs": [],
   "source": [
    "def soma(a, b):\n",
    "  return a + b"
   ]
  },
  {
   "cell_type": "code",
   "execution_count": null,
   "metadata": {
    "id": "AjdXbEsNXr8U"
   },
   "outputs": [],
   "source": [
    "resultado = soma(20, 30)\n",
    "print(resultado)"
   ]
  },
  {
   "cell_type": "code",
   "execution_count": null,
   "metadata": {
    "id": "Jk_pXlvbX7O_"
   },
   "outputs": [],
   "source": [
    "print(soma(100, 200))\n",
    "soma(100, 200)"
   ]
  },
  {
   "cell_type": "code",
   "execution_count": null,
   "metadata": {
    "id": "WYasg78VYDe2"
   },
   "outputs": [],
   "source": [
    "soma(soma(5, 5), soma(10, 10))"
   ]
  },
  {
   "cell_type": "markdown",
   "metadata": {
    "id": "n163bbfyqbbE"
   },
   "source": [
    "## Estruturas de seleção"
   ]
  },
  {
   "cell_type": "markdown",
   "metadata": {
    "id": "ZNtPIqOf95up"
   },
   "source": [
    "A tomada de decisão é a antecipação das condições que ocorrem durante a execução do programa e a especificação das ações executadas de acordo com as condições. As estruturas de seleção avaliam várias expressões que produzem VERDADEIRO ou FALSO como resultado. Você precisa determinar qual ação tomar e quais instruções executar se o resultado for VERDADEIRO ou FALSO."
   ]
  },
  {
   "cell_type": "markdown",
   "metadata": {
    "id": "e2NDzmS2G-kK"
   },
   "source": [
    "![picture](https://upload.wikimedia.org/wikipedia/commons/4/46/LampFlowchart_pt.svg)"
   ]
  },
  {
   "cell_type": "markdown",
   "metadata": {
    "id": "vSFUaiIoBavf"
   },
   "source": [
    "**Estrutura SE (if)**"
   ]
  },
  {
   "cell_type": "code",
   "execution_count": null,
   "metadata": {
    "id": "jXJGFLLJqdEv"
   },
   "outputs": [],
   "source": [
    "salario = 1200.00\n",
    "if (salario < 2000):\n",
    "  print(\"Você pode ganhar mais!\")"
   ]
  },
  {
   "cell_type": "code",
   "execution_count": null,
   "metadata": {
    "id": "cMwed9UMCqvU"
   },
   "outputs": [],
   "source": [
    "idade = 20\n",
    "salario = 1200.00\n",
    "\n",
    "if (idade >= 18 and salario < 2000):\n",
    "  print(\"Você é jovem e pode ganhar mais!\")"
   ]
  },
  {
   "cell_type": "markdown",
   "metadata": {
    "id": "TBdLh_ExBiW-"
   },
   "source": [
    "**Estrutura SE-SENÃO (if-else)**"
   ]
  },
  {
   "cell_type": "code",
   "execution_count": null,
   "metadata": {
    "id": "7j7ioWh8Bs7T"
   },
   "outputs": [],
   "source": [
    "idade = 30\n",
    "salario = 1000.00\n",
    "\n",
    "if (idade >= 18 and salario < 2000):\n",
    "  print(\"Você é jovem e pode ganhar mais!\")\n",
    "  print(\"Outra linha\")\n",
    "  print(\"Mais uma linha\")\n",
    "else:\n",
    "  print(\"Você está ganhando muito bem!\")"
   ]
  },
  {
   "cell_type": "markdown",
   "metadata": {
    "id": "7ShonfWOBtI8"
   },
   "source": [
    "**Estruturas aninhadas (if-elif-else)**"
   ]
  },
  {
   "cell_type": "code",
   "execution_count": null,
   "metadata": {
    "id": "zKRX63NyBtVU"
   },
   "outputs": [],
   "source": [
    "# Se (XXXX) - Senão Se (XXXX) - Senão\n",
    "\n",
    "idade = 18\n",
    "salario = 1500.00\n",
    "\n",
    "if (idade < 18):\n",
    "  print(\"Você não deveria estar trabalhando!\")\n",
    "elif (idade >= 18 and salario < 1000):\n",
    "  print(\"Você é jovem e pode ganhar mais!\")\n",
    "elif (idade >= 18 and salario >= 2000):\n",
    "  print(\"Você é jovem e está ganhando muito bem!\")\n",
    "else:\n",
    "  print(\"Pelo menos você está ganhando!\")"
   ]
  },
  {
   "cell_type": "markdown",
   "metadata": {
    "id": "29Y8bnFBqhrU"
   },
   "source": [
    "## Estruturas de repetição"
   ]
  },
  {
   "cell_type": "markdown",
   "metadata": {
    "id": "vdblln3nGeIz"
   },
   "source": [
    "Em geral, as instruções são executadas sequencialmente. Porém, podem haver situações em que você precise executar um bloco de código várias vezes. Uma estrutura de repetição (*loop* ou laço) nos permite executar uma instrução ou grupo de instruções várias vezes."
   ]
  },
  {
   "cell_type": "markdown",
   "metadata": {
    "id": "1zHCGtiTIW9b"
   },
   "source": [
    "* **Laços contados:** utiliza um contador que auxiliará no laço, possibilitando a repetição da estrutura até que o contador atinja o limite determinado na condição;\n",
    "* **Laços condicionais:** o valor é desconhecido e devemos utilizar uma variável com valor pré-definido em uma condição dentro do laço para finalizarmos a repetição."
   ]
  },
  {
   "cell_type": "markdown",
   "metadata": {
    "id": "1POFRlfyHhbq"
   },
   "source": [
    "![picture](https://upload.wikimedia.org/wikipedia/commons/0/06/For-loop-diagram.png)"
   ]
  },
  {
   "cell_type": "markdown",
   "metadata": {
    "id": "jd99NctPJZtQ"
   },
   "source": [
    "Independente do tipo de estrutura de repetição, todos os laços são constituídos por três partes:\n",
    "1. Inicialização da variável de controle;\n",
    "2. Condição;\n",
    "3. Atualização da variável de controle."
   ]
  },
  {
   "cell_type": "markdown",
   "metadata": {
    "id": "FzhPzdzlOZE7"
   },
   "source": [
    "**Laço PARA (for)**"
   ]
  },
  {
   "cell_type": "markdown",
   "metadata": {
    "id": "wopho9P_lDZR"
   },
   "source": [
    "Itera sobre os elementos de uma sequência, como uma lista ou uma cadeia de caracteres."
   ]
  },
  {
   "cell_type": "code",
   "execution_count": null,
   "metadata": {
    "id": "hrzHAHBhGda8"
   },
   "outputs": [],
   "source": [
    "# Percorre sobre um texto\n",
    "nome = \"João Carlos Pereira\"\n",
    "for c in nome:\n",
    "  print(c, end='-')"
   ]
  },
  {
   "cell_type": "code",
   "execution_count": null,
   "metadata": {
    "id": "4N_xTVSHqi48"
   },
   "outputs": [],
   "source": [
    "# Imprime os números de 0 a 10\n",
    "# Função range: cria uma sequência de valores\n",
    "for n in range(51):\n",
    "  print(n, end=' ')"
   ]
  },
  {
   "cell_type": "code",
   "execution_count": null,
   "metadata": {
    "id": "awrHw4L_qi-Q"
   },
   "outputs": [],
   "source": [
    "# Imprime os números de 5 a 15\n",
    "for n in range(5, 16):\n",
    "  print(n, end=' ')"
   ]
  },
  {
   "cell_type": "code",
   "execution_count": null,
   "metadata": {
    "id": "5QGQQ2Iunhrq"
   },
   "outputs": [],
   "source": [
    "# Imprime os números pares de 0 a 10\n",
    "for n in range(0, 11, 2):\n",
    "  print(n, end=' ')"
   ]
  },
  {
   "cell_type": "code",
   "execution_count": null,
   "metadata": {
    "id": "HH0GagztnZOQ"
   },
   "outputs": [],
   "source": [
    "# Imprime uma sequência de palavras\n",
    "salada_mista = ['maçã', 'banana', 'uva', \"pêra\", 'bergamota', 'cupuaçu', \"cambuci\"]\n",
    "for fruta in salada_mista:\n",
    "  print(fruta)"
   ]
  },
  {
   "cell_type": "code",
   "execution_count": null,
   "metadata": {
    "id": "tZskotPiqcGr"
   },
   "outputs": [],
   "source": [
    "# Imprime uma sequência de palavras pelo índice da sequência\n",
    "lista_nomes = ['João', 'Maria', 'Carlos', 'Renata']\n",
    "for idx in range(4):\n",
    "  print(\"Índice: \", idx, end='\\t')\n",
    "  print(\"Nome:\", lista_nomes[idx])"
   ]
  },
  {
   "cell_type": "markdown",
   "metadata": {
    "id": "ZhfQJ_pLj454"
   },
   "source": [
    "**Declaração BREAK**"
   ]
  },
  {
   "cell_type": "markdown",
   "metadata": {
    "id": "whPG0Yw8susG"
   },
   "source": [
    "Encerra o laço e segue para a próxima instrução fora da estrutura de repetição."
   ]
  },
  {
   "cell_type": "code",
   "execution_count": null,
   "metadata": {
    "id": "fumVUSmZj-lJ"
   },
   "outputs": [],
   "source": [
    "# Recebe uma lista de números entre 0 e 100 e\n",
    "# Imprime até o número 25, interrompendo o laço.\n",
    "for i in range(0, 101):\n",
    "  if (i > 25):\n",
    "    break\n",
    "  print(i, end=' ')\n",
    "print(\"Fim\")"
   ]
  },
  {
   "cell_type": "markdown",
   "metadata": {
    "id": "F1YbjaDlj-wo"
   },
   "source": [
    "**Declaração CONTINUE**"
   ]
  },
  {
   "cell_type": "markdown",
   "metadata": {
    "id": "QGmnpbNts3dl"
   },
   "source": [
    "Devolve o controle da repetição ao início do laço."
   ]
  },
  {
   "cell_type": "code",
   "execution_count": null,
   "metadata": {
    "id": "uFrLAfO_kCFA"
   },
   "outputs": [],
   "source": [
    "# Imprime os números pares entre 0 e 20\n",
    "# 0, 1, 2, 3, 4, 5, 6, 7, 8...\n",
    "# 0 / 2 = 0 --> sobra 0 (par)\n",
    "# 1 / 2 = 0 --> sobra 1 (ímpar)   X\n",
    "# 2 / 2 = 1 --> sobra 0 (par)\n",
    "# 3 / 2 = 1 --> sobra 1 (ímpar)   X\n",
    "for i in range(0, 21):\n",
    "  if (i % 2 != 0):\n",
    "    continue\n",
    "  print(i)"
   ]
  },
  {
   "cell_type": "markdown",
   "metadata": {
    "id": "J5twkgNuOmPv"
   },
   "source": [
    "**Estrutura ENQUANTO (while)**"
   ]
  },
  {
   "cell_type": "markdown",
   "metadata": {
    "id": "8P87BCZesiBQ"
   },
   "source": [
    "A condição é verificada antes da primeira execução do loop. Se a condição for falsa na 1ª vez que for avaliada, as instruções desse laço não serão executadas nenhuma vez."
   ]
  },
  {
   "cell_type": "code",
   "execution_count": null,
   "metadata": {
    "id": "vHmKHX8IOoYm"
   },
   "outputs": [],
   "source": [
    "# Loop contado\n",
    "# 26\n",
    "# enquanto 26 <= 25 (False):\n",
    "#    1, 2, 3, 4, 5, 6, 7, 8, 9, 10, 11, 12, 13, 14, 15, 16, 17, 18, 19, 20, 21, 22, 23, 24, 25\n",
    "#    contador = 25 + 1 = 26\n",
    "contador = 1\n",
    "while contador <= 5:\n",
    "  print(contador, end=' ')\n",
    "  contador = contador + 1\n",
    "\n",
    "print(\"Valor da variável contadora = \", contador)"
   ]
  },
  {
   "cell_type": "code",
   "execution_count": null,
   "metadata": {
    "id": "VUJ4MnQxOoa5"
   },
   "outputs": [],
   "source": [
    "# Loop condicional\n",
    "resposta = 'S'\n",
    "while resposta == 'S':\n",
    "  peso = float(input(\"Peso (kg): \"))\n",
    "  altura = float(input(\"Altura (m): \"))\n",
    "  imc = peso / altura ** 2\n",
    "  print(\"IMC: %.2f\" % imc)\n",
    "\n",
    "  resposta = input(\"Deseja continuar (S/N)? \")"
   ]
  },
  {
   "cell_type": "markdown",
   "metadata": {
    "id": "TShthE_1fOt_"
   },
   "source": [
    "## Exercícios"
   ]
  },
  {
   "cell_type": "markdown",
   "metadata": {
    "id": "jrZ6YXn7BmtV"
   },
   "source": [
    "**1 #** Elabore um algoritmo que solicite dois números ao usuário e imprima a soma entre esses números."
   ]
  },
  {
   "cell_type": "code",
   "execution_count": null,
   "metadata": {
    "id": "qUiasIEMBm0-"
   },
   "outputs": [],
   "source": []
  },
  {
   "cell_type": "markdown",
   "metadata": {
    "id": "2a6kdE5QBm7i"
   },
   "source": [
    "**2 #** Elabore um algoritmo que leia quanto você ganha por hora e o número de horas trabalhadas no mês. Calcule e mostre o total do seu salário no referido mês."
   ]
  },
  {
   "cell_type": "code",
   "execution_count": null,
   "metadata": {
    "id": "vXsfk2RdPyeC"
   },
   "outputs": [],
   "source": []
  },
  {
   "cell_type": "code",
   "execution_count": null,
   "metadata": {
    "id": "B_yszOTrBnAI"
   },
   "outputs": [],
   "source": []
  },
  {
   "cell_type": "markdown",
   "metadata": {
    "id": "n-3OoFZuBc9-"
   },
   "source": [
    "**3 #** Elabore um algoritmo que leia um valor e mostre na tela se o valor é positivo ou negativo."
   ]
  },
  {
   "cell_type": "code",
   "execution_count": null,
   "metadata": {
    "id": "JKLhNRfWBdI3"
   },
   "outputs": [],
   "source": []
  },
  {
   "cell_type": "markdown",
   "metadata": {
    "id": "mnJrAOjdBdc4"
   },
   "source": [
    "**4 #** Elabore um algoritmo que imprima os números ímpares entre 1 e 100."
   ]
  },
  {
   "cell_type": "code",
   "execution_count": null,
   "metadata": {
    "id": "V7Zpcgy9BdjK"
   },
   "outputs": [],
   "source": []
  },
  {
   "cell_type": "markdown",
   "metadata": {
    "id": "CPE3SjP9Bdo5"
   },
   "source": [
    "**5 #** Elabore um algoritmo que imprima a tabuada entre 1 e 10, conforme apresentado na saída."
   ]
  },
  {
   "cell_type": "code",
   "execution_count": null,
   "metadata": {
    "id": "z8usAJ9vQcf2"
   },
   "outputs": [],
   "source": []
  },
  {
   "cell_type": "markdown",
   "metadata": {
    "id": "ZpHaRZ_hsQ1t"
   },
   "source": [
    "**6 #** Elabore um algoritmo que leia um valor representando o gasto realizado por um cliente de um restaurante e imprima o valor total a ser pago, considerando os 10% do garçom."
   ]
  },
  {
   "cell_type": "code",
   "execution_count": null,
   "metadata": {
    "id": "JFefwP1osQOr"
   },
   "outputs": [],
   "source": []
  },
  {
   "cell_type": "markdown",
   "metadata": {
    "id": "WoTi45nCsWUD"
   },
   "source": [
    "**7 #** Elabore um algoritmo que leia dois números inteiros e calcule e mostre o resultado das seguintes operações aritméticas: soma, subtração, multiplicação, divisão e resto da divisão. Construa um método para cada operação e faça com que eles devolvam o valor calculado."
   ]
  },
  {
   "cell_type": "code",
   "execution_count": null,
   "metadata": {
    "id": "Zr-VGUvPsWdd"
   },
   "outputs": [],
   "source": [
    "# Método calcula_soma\n"
   ]
  },
  {
   "cell_type": "code",
   "execution_count": null,
   "metadata": {
    "id": "Q0MbHc3h7koJ"
   },
   "outputs": [],
   "source": [
    "# Método calcula_subtracao\n"
   ]
  },
  {
   "cell_type": "code",
   "execution_count": null,
   "metadata": {
    "id": "yBh45z747kqi"
   },
   "outputs": [],
   "source": [
    "# Método calcula_multiplicacao\n"
   ]
  },
  {
   "cell_type": "code",
   "execution_count": null,
   "metadata": {
    "id": "cQ231OAS7ktU"
   },
   "outputs": [],
   "source": [
    "# Método calcula_divisao\n"
   ]
  },
  {
   "cell_type": "code",
   "execution_count": null,
   "metadata": {
    "id": "S8x7yfjX7ySK"
   },
   "outputs": [],
   "source": [
    "# Método calcula_resto_divisao\n"
   ]
  },
  {
   "cell_type": "code",
   "execution_count": null,
   "metadata": {
    "id": "ZBRD02Fa7u7Z"
   },
   "outputs": [],
   "source": [
    "# Aplicação dos métodos\n",
    "a = int(input(\"1º valor: \"))\n",
    "b = int(input(\"2ª valor: \"))\n",
    "print(\"Soma            : \", calcula_soma(a, b))\n",
    "print(\"Subtração       : \", calcula_subtracao(a, b))\n",
    "print(\"Multiplicação   : \", calcula_multiplicacao(a, b))\n",
    "print(\"Divisão         : \", calcula_divisao(a, b))\n",
    "print(\"Resto da divisão: \", calcula_resto_divisao(a, b))"
   ]
  },
  {
   "cell_type": "markdown",
   "metadata": {
    "id": "_VhICqnwsWlU"
   },
   "source": [
    "**8 #** Elabore um algoritmo que leia a cotação do dólar, leia um valor em dólares, converta e mostre o valor equivalente em reais. Construa um método para converter e um método para exibir o valor convertido, apresentando os símbolos monetários (R$)."
   ]
  },
  {
   "cell_type": "code",
   "execution_count": null,
   "metadata": {
    "id": "lN7giQtwsWqm"
   },
   "outputs": [],
   "source": [
    "# Método converte (função)"
   ]
  },
  {
   "cell_type": "code",
   "execution_count": null,
   "metadata": {
    "id": "iEmQXu5176Q3"
   },
   "outputs": [],
   "source": [
    "# Método exibe (procedimento)"
   ]
  },
  {
   "cell_type": "code",
   "execution_count": null,
   "metadata": {
    "id": "GO639DK176Tm"
   },
   "outputs": [],
   "source": [
    "# Aplicação dos métodos"
   ]
  },
  {
   "cell_type": "markdown",
   "metadata": {
    "id": "ATLAAvIXsWwd"
   },
   "source": [
    "**9 #** Elabore um algoritmo que solicite um número ao usuário. Caso seja digitado um valor entre 999 e 9999, mostre a mensagem \"*Senha correta!*\"; caso contrário, mostre \"*Senha incorreta!*\"."
   ]
  },
  {
   "cell_type": "code",
   "execution_count": null,
   "metadata": {
    "id": "5czUQ9DBsW1t"
   },
   "outputs": [],
   "source": []
  },
  {
   "cell_type": "markdown",
   "metadata": {
    "id": "rTbUxw-LsdEO"
   },
   "source": [
    "**10 #** Elabore um algoritmo que leia uma quantidade N de valores fornecida pelo usuário e calcule a média desses valores."
   ]
  },
  {
   "cell_type": "code",
   "execution_count": null,
   "metadata": {
    "id": "aqlU1KAbtJQd"
   },
   "outputs": [],
   "source": []
  }
 ],
 "metadata": {
  "colab": {
   "collapsed_sections": [
    "sM5DXML0uR6V",
    "2VXPdmQdtSPF",
    "Syr5hFsivDD5",
    "_xtFuyVEv6XC",
    "If2nIfGvTxAl",
    "n163bbfyqbbE",
    "29Y8bnFBqhrU",
    "TShthE_1fOt_"
   ],
   "provenance": []
  },
  "kernelspec": {
   "display_name": "Python 3 (ipykernel)",
   "language": "python",
   "name": "python3"
  },
  "language_info": {
   "codemirror_mode": {
    "name": "ipython",
    "version": 3
   },
   "file_extension": ".py",
   "mimetype": "text/x-python",
   "name": "python",
   "nbconvert_exporter": "python",
   "pygments_lexer": "ipython3",
   "version": "3.11.7"
  },
  "varInspector": {
   "cols": {
    "lenName": 16,
    "lenType": 16,
    "lenVar": 40
   },
   "kernels_config": {
    "python": {
     "delete_cmd_postfix": "",
     "delete_cmd_prefix": "del ",
     "library": "var_list.py",
     "varRefreshCmd": "print(var_dic_list())"
    },
    "r": {
     "delete_cmd_postfix": ") ",
     "delete_cmd_prefix": "rm(",
     "library": "var_list.r",
     "varRefreshCmd": "cat(var_dic_list()) "
    }
   },
   "types_to_exclude": [
    "module",
    "function",
    "builtin_function_or_method",
    "instance",
    "_Feature"
   ],
   "window_display": false
  }
 },
 "nbformat": 4,
 "nbformat_minor": 4
}
